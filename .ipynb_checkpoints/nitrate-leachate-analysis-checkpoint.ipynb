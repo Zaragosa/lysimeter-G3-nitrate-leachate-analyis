{
 "cells": [
  {
   "cell_type": "markdown",
   "metadata": {},
   "source": [
    "# Nitrate Leachate and Deep Drainage Analysis\n",
    "\n"
   ]
  },
  {
   "cell_type": "markdown",
   "metadata": {},
   "source": [
    "**Purpose of Notebook:** Document a general workflow that can be used as a starting place when analyzing deep drainage/leachate from field studies using G3 lysimeters to collect drainage/leachate data, flow meters to collect total applied water data, and CropManage to collect total applied fertilizer. \n",
    "\n"
   ]
  },
  {
   "cell_type": "markdown",
   "metadata": {},
   "source": [
    "\n",
    "\n",
    "**Data Needed for Analysis:** The following 3 datasets in the Tidy Format are required (see example data on Github)\n",
    "\n",
    "[Link to Repository on Jason Dexter's GitHub that includes example datasets](http://vita.had.co.nz/papers/tidy-data.html)\n",
    "\n",
    "1. Fertilizer Application: **tidy-fertilizer-data**\n",
    "2. Drainage and Leachate: **tidy-lysimeter-data**\n",
    "3. Irrigation Application: **tidy-irrigation-data**\n",
    "\n",
    "**Note:** It is very important that you setup your tables the same way as the tidy-data examples (long-table format, not wide-table).\n",
    "\n",
    "[Link to Tidy Data explanation (Hadley Wickham)](http://vita.had.co.nz/papers/tidy-data.html)"
   ]
  },
  {
   "cell_type": "markdown",
   "metadata": {},
   "source": [
    "# Sections included in Notebook\n",
    "1. Setting parameters/variables specific to field trial\n",
    "2. Importing libraries and set parameters for plotting/visualizations\n",
    "3. Importing and preparing datasets\n",
    "4. Exploratory Data Analysis (raw leachate/drainage data)\n",
    "5. Perform Operations on each instance in the lysimeter-dataset to obtain final values for summarizing drainage/leachate.\n",
    "6. Visualize and plot deep drainage and leachate over time.\n",
    "7. Incorporate irrigation data to visualize and compare Total Applied Water vs. Total Deep Drainage.\n",
    "8. Incorporate fertilizer data to visualize and compare Total Applied Fertilizer vs. Total Leachate."
   ]
  },
  {
   "cell_type": "code",
   "execution_count": 1,
   "metadata": {
    "collapsed": true
   },
   "outputs": [],
   "source": [
    "# Importing the libraries\n",
    "import os\n",
    "import pandas as pd\n",
    "import numpy as np\n",
    "import matplotlib.pyplot as plt\n",
    "import seaborn as sns\n",
    "\n",
    "# Magic command so that plots show in Notebook\n",
    "%matplotlib inline"
   ]
  },
  {
   "cell_type": "code",
   "execution_count": 53,
   "metadata": {
    "collapsed": true
   },
   "outputs": [],
   "source": [
    "# Important variables used in analysis (update with specific values pertaining to your study)\n",
    "\n",
    "# Area of the divergence control (aoi_cm) tube from the G3 lysimeter (i.e., Area of Influence)\n",
    "aoi_cm2 = 506.7  # CHANGE IF YOU HAVE DETERMINED AN ALTERNATIVE VALUE FOR YOUR AOI\n",
    "\n",
    "# Bed dimensions for crop (used for scaling results by assuming zero leaching in furrows)\n",
    "'''If you want to try the analysis without scaling, then replace both values below with the number 1'''\n",
    "width_of_bed = 60 # inches\n",
    "width_of_bed_plus_furrows = 80 #inches"
   ]
  },
  {
   "cell_type": "code",
   "execution_count": 54,
   "metadata": {},
   "outputs": [
    {
     "name": "stdout",
     "output_type": "stream",
     "text": [
      "C:\\Users\\jdext\\Desktop\\lysimter-G3-nitrate-leachate-analysis\n"
     ]
    }
   ],
   "source": [
    "# Path to directory containing tidy-datasets (your jupyter notebook should be in the same place)\n",
    "path = r'C:\\Users\\jdext\\Desktop\\lysimter-G3-nitrate-leachate-analysis'\n",
    "\n",
    "# Change working directory using 'path' object and print current directory for varification\n",
    "os.chdir(path); print(os.getcwd())"
   ]
  },
  {
   "cell_type": "code",
   "execution_count": 60,
   "metadata": {},
   "outputs": [
    {
     "data": {
      "text/html": [
       "<div>\n",
       "<style>\n",
       "    .dataframe thead tr:only-child th {\n",
       "        text-align: right;\n",
       "    }\n",
       "\n",
       "    .dataframe thead th {\n",
       "        text-align: left;\n",
       "    }\n",
       "\n",
       "    .dataframe tbody tr th {\n",
       "        vertical-align: top;\n",
       "    }\n",
       "</style>\n",
       "<table border=\"1\" class=\"dataframe\">\n",
       "  <thead>\n",
       "    <tr style=\"text-align: right;\">\n",
       "      <th></th>\n",
       "      <th>date</th>\n",
       "      <th>site</th>\n",
       "      <th>crop</th>\n",
       "      <th>treatment</th>\n",
       "      <th>treat_abbr</th>\n",
       "      <th>treat_acre</th>\n",
       "      <th>application_type</th>\n",
       "      <th>fertilizer</th>\n",
       "      <th>N_gal_per_acre</th>\n",
       "      <th>N_lbs_per_acre</th>\n",
       "    </tr>\n",
       "  </thead>\n",
       "  <tbody>\n",
       "    <tr>\n",
       "      <th>0</th>\n",
       "      <td>2017-04-07</td>\n",
       "      <td>funny-farm</td>\n",
       "      <td>lettuce</td>\n",
       "      <td>Grower</td>\n",
       "      <td>1</td>\n",
       "      <td>NaN</td>\n",
       "      <td>Bed Listing</td>\n",
       "      <td>2.5-12-30</td>\n",
       "      <td>NaN</td>\n",
       "      <td>10.0</td>\n",
       "    </tr>\n",
       "    <tr>\n",
       "      <th>7</th>\n",
       "      <td>2017-05-31</td>\n",
       "      <td>funny-farm</td>\n",
       "      <td>lettuce</td>\n",
       "      <td>CropManage</td>\n",
       "      <td>2</td>\n",
       "      <td>1.86</td>\n",
       "      <td>2nd Drip Fertigation</td>\n",
       "      <td>20-0-0</td>\n",
       "      <td>14.3</td>\n",
       "      <td>30.0</td>\n",
       "    </tr>\n",
       "    <tr>\n",
       "      <th>5</th>\n",
       "      <td>2017-05-09</td>\n",
       "      <td>funny-farm</td>\n",
       "      <td>lettuce</td>\n",
       "      <td>CropManage</td>\n",
       "      <td>2</td>\n",
       "      <td>1.86</td>\n",
       "      <td>1st Sidedress</td>\n",
       "      <td>20-0-0</td>\n",
       "      <td>35.0</td>\n",
       "      <td>73.5</td>\n",
       "    </tr>\n",
       "    <tr>\n",
       "      <th>2</th>\n",
       "      <td>2017-05-24</td>\n",
       "      <td>funny-farm</td>\n",
       "      <td>lettuce</td>\n",
       "      <td>Grower</td>\n",
       "      <td>1</td>\n",
       "      <td>NaN</td>\n",
       "      <td>1st Drip Fertigation</td>\n",
       "      <td>20-0-0</td>\n",
       "      <td>28.6</td>\n",
       "      <td>60.0</td>\n",
       "    </tr>\n",
       "    <tr>\n",
       "      <th>9</th>\n",
       "      <td>2017-05-09</td>\n",
       "      <td>funny-farm</td>\n",
       "      <td>lettuce</td>\n",
       "      <td>ET 130</td>\n",
       "      <td>3</td>\n",
       "      <td>1.86</td>\n",
       "      <td>1st Sidedress</td>\n",
       "      <td>20-0-0</td>\n",
       "      <td>35.0</td>\n",
       "      <td>73.5</td>\n",
       "    </tr>\n",
       "  </tbody>\n",
       "</table>\n",
       "</div>"
      ],
      "text/plain": [
       "        date        site     crop   treatment  treat_abbr  treat_acre  \\\n",
       "0 2017-04-07  funny-farm  lettuce      Grower           1         NaN   \n",
       "7 2017-05-31  funny-farm  lettuce  CropManage           2        1.86   \n",
       "5 2017-05-09  funny-farm  lettuce  CropManage           2        1.86   \n",
       "2 2017-05-24  funny-farm  lettuce      Grower           1         NaN   \n",
       "9 2017-05-09  funny-farm  lettuce      ET 130           3        1.86   \n",
       "\n",
       "       application_type fertilizer  N_gal_per_acre  N_lbs_per_acre  \n",
       "0           Bed Listing  2.5-12-30             NaN            10.0  \n",
       "7  2nd Drip Fertigation     20-0-0            14.3            30.0  \n",
       "5         1st Sidedress     20-0-0            35.0            73.5  \n",
       "2  1st Drip Fertigation     20-0-0            28.6            60.0  \n",
       "9         1st Sidedress     20-0-0            35.0            73.5  "
      ]
     },
     "execution_count": 60,
     "metadata": {},
     "output_type": "execute_result"
    }
   ],
   "source": [
    "# Importing the datasets\n",
    "fertilizer = pd.read_excel('_tidy-fertilizer-data.xlsx', header=0)\n",
    "irrigation = pd.read_excel('_tidy-irrigation-data.xlsx', header=0)\n",
    "lysimeter = pd.read_excel('_tidy-lysimeter-data.xlsx', header=0)\n",
    "\n",
    "# Look at imported data to be sure it imported\n",
    "fertilizer.sample(5) # choose 5 randome records and display as table"
   ]
  },
  {
   "cell_type": "markdown",
   "metadata": {},
   "source": [
    "# Exploration of Raw Lysimeter Data (treatment averages)\n",
    "Taking a quick look at the unscaled volumes pumped on site and the nitrate concentration from the laboratory analysis."
   ]
  },
  {
   "cell_type": "code",
   "execution_count": 63,
   "metadata": {},
   "outputs": [
    {
     "data": {
      "text/html": [
       "<div>\n",
       "<style>\n",
       "    .dataframe thead tr:only-child th {\n",
       "        text-align: right;\n",
       "    }\n",
       "\n",
       "    .dataframe thead th {\n",
       "        text-align: left;\n",
       "    }\n",
       "\n",
       "    .dataframe tbody tr th {\n",
       "        vertical-align: top;\n",
       "    }\n",
       "</style>\n",
       "<table border=\"1\" class=\"dataframe\">\n",
       "  <thead>\n",
       "    <tr style=\"text-align: right;\">\n",
       "      <th></th>\n",
       "      <th>event</th>\n",
       "      <th>date</th>\n",
       "      <th>DAP</th>\n",
       "      <th>treatment</th>\n",
       "      <th>unique_id</th>\n",
       "      <th>replicate</th>\n",
       "      <th>lysimeter</th>\n",
       "      <th>lys_depth</th>\n",
       "      <th>irrigation_type</th>\n",
       "      <th>dct_diam_cm</th>\n",
       "      <th>dct_area_cm2</th>\n",
       "      <th>drainage_ml</th>\n",
       "      <th>N_mg_per_L</th>\n",
       "      <th>Nh4_mg_per_L</th>\n",
       "    </tr>\n",
       "  </thead>\n",
       "  <tbody>\n",
       "    <tr>\n",
       "      <th>43</th>\n",
       "      <td>6</td>\n",
       "      <td>2017-06-05</td>\n",
       "      <td>54</td>\n",
       "      <td>ET 130</td>\n",
       "      <td>D7YL</td>\n",
       "      <td>Rep D</td>\n",
       "      <td>G3 Drain Gauge</td>\n",
       "      <td>36\"</td>\n",
       "      <td>drip</td>\n",
       "      <td>25.4</td>\n",
       "      <td>506.7</td>\n",
       "      <td>70</td>\n",
       "      <td>0.00000</td>\n",
       "      <td>0.04</td>\n",
       "    </tr>\n",
       "    <tr>\n",
       "      <th>17</th>\n",
       "      <td>3</td>\n",
       "      <td>2017-05-18</td>\n",
       "      <td>36</td>\n",
       "      <td>ET 130</td>\n",
       "      <td>D4YL</td>\n",
       "      <td>Rep B</td>\n",
       "      <td>G3 Drain Gauge</td>\n",
       "      <td>36\"</td>\n",
       "      <td>drip</td>\n",
       "      <td>25.4</td>\n",
       "      <td>506.7</td>\n",
       "      <td>0</td>\n",
       "      <td>0.00000</td>\n",
       "      <td>0.00</td>\n",
       "    </tr>\n",
       "    <tr>\n",
       "      <th>37</th>\n",
       "      <td>5</td>\n",
       "      <td>2017-05-31</td>\n",
       "      <td>49</td>\n",
       "      <td>CropManage</td>\n",
       "      <td>D3NL</td>\n",
       "      <td>Rep B</td>\n",
       "      <td>G3 Drain Gauge</td>\n",
       "      <td>36\"</td>\n",
       "      <td>drip</td>\n",
       "      <td>25.4</td>\n",
       "      <td>506.7</td>\n",
       "      <td>160</td>\n",
       "      <td>122.84375</td>\n",
       "      <td>0.04</td>\n",
       "    </tr>\n",
       "  </tbody>\n",
       "</table>\n",
       "</div>"
      ],
      "text/plain": [
       "    event       date  DAP   treatment unique_id replicate       lysimeter  \\\n",
       "43      6 2017-06-05   54      ET 130      D7YL     Rep D  G3 Drain Gauge   \n",
       "17      3 2017-05-18   36      ET 130      D4YL     Rep B  G3 Drain Gauge   \n",
       "37      5 2017-05-31   49  CropManage      D3NL     Rep B  G3 Drain Gauge   \n",
       "\n",
       "   lys_depth irrigation_type  dct_diam_cm  dct_area_cm2  drainage_ml  \\\n",
       "43       36\"            drip         25.4         506.7           70   \n",
       "17       36\"            drip         25.4         506.7            0   \n",
       "37       36\"            drip         25.4         506.7          160   \n",
       "\n",
       "    N_mg_per_L  Nh4_mg_per_L  \n",
       "43     0.00000          0.04  \n",
       "17     0.00000          0.00  \n",
       "37   122.84375          0.04  "
      ]
     },
     "execution_count": 63,
     "metadata": {},
     "output_type": "execute_result"
    }
   ],
   "source": [
    "# View a few records from the lysimeter raw data (mainly to view variable that are available)\n",
    "lysimeter.sample(3)"
   ]
  },
  {
   "cell_type": "code",
   "execution_count": 56,
   "metadata": {
    "collapsed": true
   },
   "outputs": [],
   "source": [
    "# set style for all figures that will be made throughout this notebook\n",
    "sns.set_context(\"paper\")\n",
    "sns.set(font='serif')\n",
    "sns.set_style(\"white\", {\"font.family\": \"serif\",\"font.serif\": [\"Times\", \"Palatino\", \"serif\"]})"
   ]
  },
  {
   "cell_type": "code",
   "execution_count": 57,
   "metadata": {},
   "outputs": [
    {
     "data": {
      "text/plain": [
       "(<matplotlib.figure.Figure at 0x1d3de732c88>,\n",
       " <matplotlib.axes._subplots.AxesSubplot at 0x1d3de7322b0>)"
      ]
     },
     "execution_count": 57,
     "metadata": {},
     "output_type": "execute_result"
    },
    {
     "data": {
      "image/png": "[encoded data removed]",
      "text/plain": [
       "<matplotlib.figure.Figure at 0x1d3de732c88>"
      ]
     },
     "metadata": {},
     "output_type": "display_data"
    }
   ],
   "source": [
    "def explore_raw_lysimeter_data(tidy_data): \n",
    "    fig, ax=plt.subplots(2,1,figsize=(10,8)) # initiate figure and axis objects\n",
    "    sns.set(style=\"ticks\", rc={\"lines.linewidth\": 1})\n",
    "    # plot drainage\n",
    "    ax = sns.pointplot(x=\"DAP\", y=\"drainage_ml\", hue=\"treatment\", data=tidy_data, palette=['black','grey'],\n",
    "                       errwidth=1, markers=[\"o\", \"^\"], capsize=0.25, linestyles=[\"-\", \"--\"], linewidth=5, ax=ax[0]) \n",
    "    ax.set_xlabel(xlabel='', fontsize=20,labelpad=15); \n",
    "    ax.set_ylabel('Pumped Drainage (ml)', fontsize=14, labelpad=14); # ax.set_ylim(-20,300)\n",
    "    ax.tick_params(labelsize=15); \n",
    "    # plot nitrate concentration\n",
    "    ax1 = sns.pointplot(x=\"DAP\", y=\"N_mg_per_L\", hue=\"treatment\", data=tidy_data, palette=['black','grey'],\n",
    "                       errwidth=1, markers=[\"o\", \"^\"], capsize=0.25, linestyles=[\"-\", \"--\"], linewidth=5)\n",
    "    ax1.set_xlabel(xlabel='Days After Planting (DAP)', fontsize=16,labelpad=15);\n",
    "    ax1.set_ylabel('Nitrate Concentration (mg/L)', fontsize=14, labelpad=14); # ax1.set_ylim(-20,300) \n",
    "    ax1.tick_params(labelsize=15); \n",
    "    sns.despine() # remove upper and righhand spines\n",
    "    return fig, ax\n",
    "\n",
    "# use function to explore raw lysimeter data (unscaled)\n",
    "explore_raw_lysimeter_data(lysimeter)"
   ]
  },
  {
   "cell_type": "code",
   "execution_count": 89,
   "metadata": {
    "collapsed": true
   },
   "outputs": [],
   "source": [
    "# Explore nitrate concentration (mg/L) and the variability between treatments and replicates\n",
    "#sns.factorplot(x=\"DAP\", y=\"N_mg_per_L\", hue=\"replicate\",\n",
    "#    col=\"treatment\", data=lysimeter, kind=\"swarm\")"
   ]
  },
  {
   "cell_type": "code",
   "execution_count": 90,
   "metadata": {
    "collapsed": true
   },
   "outputs": [],
   "source": [
    "# Explore drainage volumes (ml) and the variability between treatments and replicates\n",
    "#sns.factorplot(x=\"DAP\", y=\"drainage_ml\", hue=\"replicate\",\n",
    "#    col=\"treatment\", data=lysimeter, kind=\"swarm\")"
   ]
  },
  {
   "cell_type": "markdown",
   "metadata": {},
   "source": [
    "# Nitrate Leachate and Deep Drainage Analysis\n",
    "\n",
    "### ONCE IM HAPPY WITH THE WORKFLOW GO AHEAD AND DIAL THINGS IN AND NUMBER EACH SECTION. maybe put this at the top and add in a couple of other items from the first few things\n"
   ]
  },
  {
   "cell_type": "markdown",
   "metadata": {},
   "source": [
    "**The general workflow for the leachate analysis is as follows:**\n",
    "\n",
    "1. Setup needed Conversion factors.\n",
    "2. Subset necessary columns for analysis.\n",
    "3. Determine and create necessary area of influence (AOI) and scaling factor.\n",
    "4. Use pumped volumes and nitrate concentrations to calculate each component necessary for the analyis.\n",
    "    - Calculate drainage in inches (from volume). \n",
    "    - Convert milliliters (same as cm^3 b/c 1 ml = 1 cm^3) to liters.\n",
    "    - Calculate milligrams of N (N_mg) by multiplying drainage (L) times concentration (mg/L).\n",
    "    - Calculate pounds of N (N_lbs) by multiplying concentration (N_mg) times the milligrams to pounds conversion factor.\n",
    "    - Calculate pounds of N per square centimeters.\n",
    "    - Calculate pounds of N per acre.\n",
    "\n",
    "**Note:** Each of these calculations and/or conversions is added as a new column to the leachate data frame (calculations are happening to each instance (record) in the dataframe). The output dataframe (table) then has everything to easily summarize drainage or leachate for the study (e.g., by treatment and by replicate)"
   ]
  },
  {
   "cell_type": "code",
   "execution_count": 91,
   "metadata": {
    "collapsed": true
   },
   "outputs": [],
   "source": [
    "# Conversions needed for analysis\n",
    "# conversion factor for milligrams to pounds (lbs in a mg)\n",
    "mg_to_lbs = 0.0000022046   #   lb = mg * 0.0000022046\n",
    "\n",
    "# conversion factor for total square cinemiters in an Acre\n",
    "cm2_in_acre = 40468564.224\n",
    "\n",
    "# Conversion factor for going from inches to centimeters\n",
    "inch_to_cm = 2.54 # conversion factor: centimeters per inch\n",
    "\n",
    "# Conversion factor for going from centimeters to inches\n",
    "cm_to_inches = 0.393701 # conversion factor: inches per centimeter"
   ]
  },
  {
   "cell_type": "code",
   "execution_count": 92,
   "metadata": {},
   "outputs": [
    {
     "data": {
      "text/html": [
       "<div>\n",
       "<style>\n",
       "    .dataframe thead tr:only-child th {\n",
       "        text-align: right;\n",
       "    }\n",
       "\n",
       "    .dataframe thead th {\n",
       "        text-align: left;\n",
       "    }\n",
       "\n",
       "    .dataframe tbody tr th {\n",
       "        vertical-align: top;\n",
       "    }\n",
       "</style>\n",
       "<table border=\"1\" class=\"dataframe\">\n",
       "  <thead>\n",
       "    <tr style=\"text-align: right;\">\n",
       "      <th></th>\n",
       "      <th>event</th>\n",
       "      <th>date</th>\n",
       "      <th>DAP</th>\n",
       "      <th>treatment</th>\n",
       "      <th>replicate</th>\n",
       "      <th>unique_id</th>\n",
       "      <th>drainage_cm3</th>\n",
       "      <th>N_mg_per_L</th>\n",
       "    </tr>\n",
       "  </thead>\n",
       "  <tbody>\n",
       "    <tr>\n",
       "      <th>21</th>\n",
       "      <td>3</td>\n",
       "      <td>2017-05-18</td>\n",
       "      <td>36</td>\n",
       "      <td>CropManage</td>\n",
       "      <td>Rep B</td>\n",
       "      <td>D3NL</td>\n",
       "      <td>50</td>\n",
       "      <td>81.944000</td>\n",
       "    </tr>\n",
       "    <tr>\n",
       "      <th>13</th>\n",
       "      <td>2</td>\n",
       "      <td>2017-05-15</td>\n",
       "      <td>33</td>\n",
       "      <td>CropManage</td>\n",
       "      <td>Rep B</td>\n",
       "      <td>D3NL</td>\n",
       "      <td>1450</td>\n",
       "      <td>156.895207</td>\n",
       "    </tr>\n",
       "    <tr>\n",
       "      <th>75</th>\n",
       "      <td>10</td>\n",
       "      <td>2017-06-20</td>\n",
       "      <td>69</td>\n",
       "      <td>ET 130</td>\n",
       "      <td>Rep D</td>\n",
       "      <td>D7YL</td>\n",
       "      <td>507</td>\n",
       "      <td>158.201183</td>\n",
       "    </tr>\n",
       "    <tr>\n",
       "      <th>36</th>\n",
       "      <td>5</td>\n",
       "      <td>2017-05-31</td>\n",
       "      <td>49</td>\n",
       "      <td>CropManage</td>\n",
       "      <td>Rep A</td>\n",
       "      <td>D2YL</td>\n",
       "      <td>0</td>\n",
       "      <td>0.000000</td>\n",
       "    </tr>\n",
       "    <tr>\n",
       "      <th>30</th>\n",
       "      <td>4</td>\n",
       "      <td>2017-05-24</td>\n",
       "      <td>42</td>\n",
       "      <td>CropManage</td>\n",
       "      <td>Rep C</td>\n",
       "      <td>D6NL</td>\n",
       "      <td>0</td>\n",
       "      <td>0.000000</td>\n",
       "    </tr>\n",
       "  </tbody>\n",
       "</table>\n",
       "</div>"
      ],
      "text/plain": [
       "    event       date  DAP   treatment replicate unique_id  drainage_cm3  \\\n",
       "21      3 2017-05-18   36  CropManage     Rep B      D3NL            50   \n",
       "13      2 2017-05-15   33  CropManage     Rep B      D3NL          1450   \n",
       "75     10 2017-06-20   69      ET 130     Rep D      D7YL           507   \n",
       "36      5 2017-05-31   49  CropManage     Rep A      D2YL             0   \n",
       "30      4 2017-05-24   42  CropManage     Rep C      D6NL             0   \n",
       "\n",
       "    N_mg_per_L  \n",
       "21   81.944000  \n",
       "13  156.895207  \n",
       "75  158.201183  \n",
       "36    0.000000  \n",
       "30    0.000000  "
      ]
     },
     "execution_count": 92,
     "metadata": {},
     "output_type": "execute_result"
    }
   ],
   "source": [
    "# Subset only the columns needed for leachate analysis and save in variable called 'drainage'\n",
    "leachate = lysimeter.loc[:, ['event', 'date', 'DAP', 'treatment', 'replicate', 'unique_id', 'drainage_ml', 'N_mg_per_L'] ]\n",
    "\n",
    "# rename drainage_ml to drainage_cm3 so that the conversion calculation later makes more sense\n",
    "leachate.rename(columns={'drainage_ml': 'drainage_cm3'}, inplace=True)  # 1 ml = 1 cm^3\n",
    "\n",
    "leachate.sample(5) # view 5 randomly sampled records in the leachate data"
   ]
  },
  {
   "cell_type": "markdown",
   "metadata": {},
   "source": [
    "### Create Scaling Factor that assumes no leaching in furrows (and double check scalar and area of influence\n",
    "- **Note:** These are in centimeters because they will be used to do calculations on drainage in the leachate data frame"
   ]
  },
  {
   "cell_type": "code",
   "execution_count": 93,
   "metadata": {},
   "outputs": [
    {
     "name": "stdout",
     "output_type": "stream",
     "text": [
      "The Area of Influence being used is:  506.7  cm\n",
      "The Scaling factor used that assumes the furrows had no drainage is:  0.7500000000000001\n"
     ]
    }
   ],
   "source": [
    "# Function to create scaling factor that assumes no leaching in furrows\n",
    "def create_scaling_factor(width_of_bed=1, width_of_bed_plus_furrows=1):\n",
    "    '''The output of this function will be in centimeters'''\n",
    "    '''This is important for later conversions'''\n",
    "    # convert width of just the bed from inches to centimeters\n",
    "    width_of_bed_cm = width_of_bed * inch_to_cm # centimeters\n",
    "    # convert width of bed (with furrows) from inches to centimeters\n",
    "    width_of_bed_plus_furrows_cm = width_of_bed_plus_furrows * inch_to_cm # centimeters\n",
    "    # calculate scaling factor that assumes there was no drainage in furrows\n",
    "    scaling_factor_cm = width_of_bed_cm / width_of_bed_plus_furrows_cm    \n",
    "    return scaling_factor_cm\n",
    "\n",
    "furrow_scalar = create_scaling_factor(width_of_bed, width_of_bed_plus_furrows)\n",
    "\n",
    "# Check to be sure aoi_cm2 and furrow_scalar are what you expect\n",
    "print(\"The Area of Influence being used is: \", aoi_cm2, \" cm\")\n",
    "print(\"The Scaling factor used that assumes the furrows had no drainage is: \", furrow_scalar)"
   ]
  },
  {
   "cell_type": "markdown",
   "metadata": {},
   "source": [
    "---"
   ]
  },
  {
   "cell_type": "code",
   "execution_count": 94,
   "metadata": {},
   "outputs": [
    {
     "data": {
      "text/html": [
       "<div>\n",
       "<style>\n",
       "    .dataframe thead tr:only-child th {\n",
       "        text-align: right;\n",
       "    }\n",
       "\n",
       "    .dataframe thead th {\n",
       "        text-align: left;\n",
       "    }\n",
       "\n",
       "    .dataframe tbody tr th {\n",
       "        vertical-align: top;\n",
       "    }\n",
       "</style>\n",
       "<table border=\"1\" class=\"dataframe\">\n",
       "  <thead>\n",
       "    <tr style=\"text-align: right;\">\n",
       "      <th></th>\n",
       "      <th>event</th>\n",
       "      <th>date</th>\n",
       "      <th>DAP</th>\n",
       "      <th>treatment</th>\n",
       "      <th>replicate</th>\n",
       "      <th>unique_id</th>\n",
       "      <th>drainage_cm3</th>\n",
       "      <th>N_mg_per_L</th>\n",
       "      <th>drainage_in</th>\n",
       "      <th>drainage_L</th>\n",
       "      <th>N_mg</th>\n",
       "      <th>N_lbs</th>\n",
       "      <th>N_lbs_per_cm2</th>\n",
       "      <th>N_lbs_per_acre</th>\n",
       "    </tr>\n",
       "  </thead>\n",
       "  <tbody>\n",
       "    <tr>\n",
       "      <th>9</th>\n",
       "      <td>2</td>\n",
       "      <td>2017-05-15</td>\n",
       "      <td>33</td>\n",
       "      <td>ET 130</td>\n",
       "      <td>Rep B</td>\n",
       "      <td>D4YL</td>\n",
       "      <td>0</td>\n",
       "      <td>0.00</td>\n",
       "      <td>0.00</td>\n",
       "      <td>0.00</td>\n",
       "      <td>0.00</td>\n",
       "      <td>0.0</td>\n",
       "      <td>0.0</td>\n",
       "      <td>0.00</td>\n",
       "    </tr>\n",
       "    <tr>\n",
       "      <th>29</th>\n",
       "      <td>4</td>\n",
       "      <td>2017-05-24</td>\n",
       "      <td>42</td>\n",
       "      <td>CropManage</td>\n",
       "      <td>Rep B</td>\n",
       "      <td>D3NL</td>\n",
       "      <td>210</td>\n",
       "      <td>209.57</td>\n",
       "      <td>0.12</td>\n",
       "      <td>0.21</td>\n",
       "      <td>44.01</td>\n",
       "      <td>0.0</td>\n",
       "      <td>0.0</td>\n",
       "      <td>5.81</td>\n",
       "    </tr>\n",
       "    <tr>\n",
       "      <th>25</th>\n",
       "      <td>4</td>\n",
       "      <td>2017-05-24</td>\n",
       "      <td>42</td>\n",
       "      <td>ET 130</td>\n",
       "      <td>Rep B</td>\n",
       "      <td>D4YL</td>\n",
       "      <td>360</td>\n",
       "      <td>139.00</td>\n",
       "      <td>0.21</td>\n",
       "      <td>0.36</td>\n",
       "      <td>50.04</td>\n",
       "      <td>0.0</td>\n",
       "      <td>0.0</td>\n",
       "      <td>6.61</td>\n",
       "    </tr>\n",
       "    <tr>\n",
       "      <th>37</th>\n",
       "      <td>5</td>\n",
       "      <td>2017-05-31</td>\n",
       "      <td>49</td>\n",
       "      <td>CropManage</td>\n",
       "      <td>Rep B</td>\n",
       "      <td>D3NL</td>\n",
       "      <td>160</td>\n",
       "      <td>122.84</td>\n",
       "      <td>0.09</td>\n",
       "      <td>0.16</td>\n",
       "      <td>19.66</td>\n",
       "      <td>0.0</td>\n",
       "      <td>0.0</td>\n",
       "      <td>2.60</td>\n",
       "    </tr>\n",
       "    <tr>\n",
       "      <th>44</th>\n",
       "      <td>6</td>\n",
       "      <td>2017-06-05</td>\n",
       "      <td>54</td>\n",
       "      <td>CropManage</td>\n",
       "      <td>Rep A</td>\n",
       "      <td>D2YL</td>\n",
       "      <td>0</td>\n",
       "      <td>0.00</td>\n",
       "      <td>0.00</td>\n",
       "      <td>0.00</td>\n",
       "      <td>0.00</td>\n",
       "      <td>0.0</td>\n",
       "      <td>0.0</td>\n",
       "      <td>0.00</td>\n",
       "    </tr>\n",
       "  </tbody>\n",
       "</table>\n",
       "</div>"
      ],
      "text/plain": [
       "    event       date  DAP   treatment replicate unique_id  drainage_cm3  \\\n",
       "9       2 2017-05-15   33      ET 130     Rep B      D4YL             0   \n",
       "29      4 2017-05-24   42  CropManage     Rep B      D3NL           210   \n",
       "25      4 2017-05-24   42      ET 130     Rep B      D4YL           360   \n",
       "37      5 2017-05-31   49  CropManage     Rep B      D3NL           160   \n",
       "44      6 2017-06-05   54  CropManage     Rep A      D2YL             0   \n",
       "\n",
       "    N_mg_per_L  drainage_in  drainage_L   N_mg  N_lbs  N_lbs_per_cm2  \\\n",
       "9         0.00         0.00        0.00   0.00    0.0            0.0   \n",
       "29      209.57         0.12        0.21  44.01    0.0            0.0   \n",
       "25      139.00         0.21        0.36  50.04    0.0            0.0   \n",
       "37      122.84         0.09        0.16  19.66    0.0            0.0   \n",
       "44        0.00         0.00        0.00   0.00    0.0            0.0   \n",
       "\n",
       "    N_lbs_per_acre  \n",
       "9             0.00  \n",
       "29            5.81  \n",
       "25            6.61  \n",
       "37            2.60  \n",
       "44            0.00  "
      ]
     },
     "execution_count": 94,
     "metadata": {},
     "output_type": "execute_result"
    }
   ],
   "source": [
    "# Calculate drainage in inches (in) for each record and add resulting column to dataframe\n",
    "leachate.loc[:,'drainage_in'] = (leachate.loc[:, 'drainage_cm3'] / aoi_cm2) * furrow_scalar * cm_to_inches\n",
    "\n",
    "# Calculate drainage in liters (L) for each record and add resulting column to dataframe\n",
    "leachate.loc[:,'drainage_L'] = leachate.loc[:,'drainage_cm3'] / 1000\n",
    "\n",
    "# Calculate nitrate in miligrams (mg) for each record and add resulting column to dataframe\n",
    "leachate.loc[:,'N_mg'] = leachate.loc[:,'N_mg_per_L'] * leachate.loc[:,'drainage_L'] \n",
    "\n",
    "# Calculate nitrate in pounds (lb) for each record and add resulting column to dataframe\n",
    "leachate.loc[:,'N_lbs'] = leachate.loc[:,'N_mg'] * mg_to_lbs\n",
    "\n",
    "# Calculate lbs of N per sampling area (cm^2) for each record and add resulting column to dataframe\n",
    "leachate.loc[:,'N_lbs_per_cm2'] = (leachate.loc[:,'N_lbs'] / aoi_cm2 * furrow_scalar)\n",
    "\n",
    "# Convert lbs of N per cm^2 to lbs of N per Acre for each record and add resulting column to dataframe\n",
    "leachate.loc[:,'N_lbs_per_acre'] = leachate.loc[:,'N_lbs_per_cm2'] * cm2_in_acre\n",
    "    \n",
    "leachate.sample(5).round(2)"
   ]
  },
  {
   "cell_type": "markdown",
   "metadata": {},
   "source": [
    "# Exploration of Scaled Lysimeter Data (treatment averages)\n",
    "Taking a quick look at the unscaled volumes pumped on site and the nitrate concentration from the laboratory analysis."
   ]
  },
  {
   "cell_type": "code",
   "execution_count": 107,
   "metadata": {},
   "outputs": [
    {
     "data": {
      "text/plain": [
       "(<matplotlib.figure.Figure at 0x1d3e055ef60>,\n",
       " <matplotlib.axes._subplots.AxesSubplot at 0x1d3e0595be0>)"
      ]
     },
     "execution_count": 107,
     "metadata": {},
     "output_type": "execute_result"
    },
    {
     "data": {
      "image/png": "[encoded data removed]",
      "text/plain": [
       "<matplotlib.figure.Figure at 0x1d3e055ef60>"
      ]
     },
     "metadata": {},
     "output_type": "display_data"
    }
   ],
   "source": [
    "def explore_scaled_lysimeter_data(tidy_data): \n",
    "    fig, ax=plt.subplots(2,1,figsize=(10,8)) # initiate figure and axis objects\n",
    "    sns.set(style=\"ticks\", rc={\"lines.linewidth\": 1})\n",
    "    # plot drainage\n",
    "    ax = sns.pointplot(x=\"DAP\", y=\"drainage_in\", hue=\"treatment\", data=tidy_data, palette=['black','grey'],\n",
    "                       errwidth=1, markers=[\"o\", \"^\"], capsize=0.25, linestyles=[\"-\", \"--\"], linewidth=5, ax=ax[0]) \n",
    "    ax.set_xlabel(xlabel='', fontsize=20,labelpad=15); \n",
    "    ax.set_ylabel('Deep Drainage (inches)', fontsize=14, labelpad=14); # ax.set_ylim(-20,300)\n",
    "    ax.tick_params(labelsize=15); \n",
    "    # plot nitrate concentration\n",
    "    ax1 = sns.pointplot(x=\"DAP\", y=\"N_lbs_per_acre\", hue=\"treatment\", data=tidy_data, palette=['black','grey'],\n",
    "                       errwidth=1, markers=[\"o\", \"^\"], capsize=0.25, linestyles=[\"-\", \"--\"], linewidth=5)\n",
    "    ax1.set_xlabel(xlabel='Days After Planting (DAP)', fontsize=16,labelpad=15);\n",
    "    ax1.set_ylabel('Leachate (lbs N/acre)', fontsize=14, labelpad=14); # ax1.set_ylim(-20,300) \n",
    "    ax1.tick_params(labelsize=15); \n",
    "    sns.despine() # remove upper and righhand spines\n",
    "    return fig, ax\n",
    "\n",
    "    return fig, ax\n",
    "\n",
    "# use function to explore scaled lysimeter data (unscaled)\n",
    "explore_scaled_lysimeter_data(leachate)"
   ]
  },
  {
   "cell_type": "markdown",
   "metadata": {},
   "source": [
    "---"
   ]
  },
  {
   "cell_type": "markdown",
   "metadata": {},
   "source": [
    "# Aggregate drainage and leachate data for comparisons"
   ]
  },
  {
   "cell_type": "markdown",
   "metadata": {},
   "source": [
    "### Group leachate data by treatment and replicate to get a cummulative total for each unique lysimter (replicate)\n",
    "**Note:** This step is summing all values that were collected for each individual replicate (each lysimeter)\n"
   ]
  },
  {
   "cell_type": "code",
   "execution_count": 108,
   "metadata": {
    "collapsed": true
   },
   "outputs": [],
   "source": [
    "# Set correct data-types for leachate dataframe\n",
    "leachate.treatment = leachate.treatment.astype('category')\n",
    "leachate.replicate = leachate.replicate.astype('category')\n",
    "#leachate.event = leachate.event.astype('category')\n",
    "#leachate.DAP = leachate.DAP.astype('category')"
   ]
  },
  {
   "cell_type": "code",
   "execution_count": 109,
   "metadata": {},
   "outputs": [
    {
     "data": {
      "text/html": [
       "<div>\n",
       "<style>\n",
       "    .dataframe thead tr:only-child th {\n",
       "        text-align: right;\n",
       "    }\n",
       "\n",
       "    .dataframe thead th {\n",
       "        text-align: left;\n",
       "    }\n",
       "\n",
       "    .dataframe tbody tr th {\n",
       "        vertical-align: top;\n",
       "    }\n",
       "</style>\n",
       "<table border=\"1\" class=\"dataframe\">\n",
       "  <thead>\n",
       "    <tr style=\"text-align: right;\">\n",
       "      <th></th>\n",
       "      <th>treatment</th>\n",
       "      <th>replicate</th>\n",
       "      <th>drainage_cm3</th>\n",
       "      <th>N_mg_per_L</th>\n",
       "      <th>drainage_in</th>\n",
       "      <th>drainage_L</th>\n",
       "      <th>N_mg</th>\n",
       "      <th>N_lbs</th>\n",
       "      <th>N_lbs_per_cm2</th>\n",
       "      <th>N_lbs_per_acre</th>\n",
       "    </tr>\n",
       "  </thead>\n",
       "  <tbody>\n",
       "    <tr>\n",
       "      <th>0</th>\n",
       "      <td>CropManage</td>\n",
       "      <td>Rep A</td>\n",
       "      <td>403</td>\n",
       "      <td>80.400000</td>\n",
       "      <td>0.234845</td>\n",
       "      <td>0.403</td>\n",
       "      <td>32.40120</td>\n",
       "      <td>0.000071</td>\n",
       "      <td>1.057307e-07</td>\n",
       "      <td>4.278771</td>\n",
       "    </tr>\n",
       "    <tr>\n",
       "      <th>1</th>\n",
       "      <td>CropManage</td>\n",
       "      <td>Rep B</td>\n",
       "      <td>2155</td>\n",
       "      <td>793.543095</td>\n",
       "      <td>1.255811</td>\n",
       "      <td>2.155</td>\n",
       "      <td>326.85375</td>\n",
       "      <td>0.000721</td>\n",
       "      <td>1.066580e-06</td>\n",
       "      <td>43.162981</td>\n",
       "    </tr>\n",
       "    <tr>\n",
       "      <th>2</th>\n",
       "      <td>CropManage</td>\n",
       "      <td>Rep C</td>\n",
       "      <td>0</td>\n",
       "      <td>0.000000</td>\n",
       "      <td>0.000000</td>\n",
       "      <td>0.000</td>\n",
       "      <td>0.00000</td>\n",
       "      <td>0.000000</td>\n",
       "      <td>0.000000e+00</td>\n",
       "      <td>0.000000</td>\n",
       "    </tr>\n",
       "    <tr>\n",
       "      <th>3</th>\n",
       "      <td>CropManage</td>\n",
       "      <td>Rep D</td>\n",
       "      <td>0</td>\n",
       "      <td>0.000000</td>\n",
       "      <td>0.000000</td>\n",
       "      <td>0.000</td>\n",
       "      <td>0.00000</td>\n",
       "      <td>0.000000</td>\n",
       "      <td>0.000000e+00</td>\n",
       "      <td>0.000000</td>\n",
       "    </tr>\n",
       "    <tr>\n",
       "      <th>4</th>\n",
       "      <td>ET 130</td>\n",
       "      <td>Rep A</td>\n",
       "      <td>2038</td>\n",
       "      <td>398.185079</td>\n",
       "      <td>1.187630</td>\n",
       "      <td>2.038</td>\n",
       "      <td>141.77360</td>\n",
       "      <td>0.000313</td>\n",
       "      <td>4.626319e-07</td>\n",
       "      <td>18.722047</td>\n",
       "    </tr>\n",
       "    <tr>\n",
       "      <th>5</th>\n",
       "      <td>ET 130</td>\n",
       "      <td>Rep B</td>\n",
       "      <td>6985</td>\n",
       "      <td>723.147601</td>\n",
       "      <td>4.070458</td>\n",
       "      <td>6.985</td>\n",
       "      <td>670.62300</td>\n",
       "      <td>0.001478</td>\n",
       "      <td>2.188359e-06</td>\n",
       "      <td>88.559754</td>\n",
       "    </tr>\n",
       "    <tr>\n",
       "      <th>6</th>\n",
       "      <td>ET 130</td>\n",
       "      <td>Rep C</td>\n",
       "      <td>2545</td>\n",
       "      <td>1210.697264</td>\n",
       "      <td>1.483080</td>\n",
       "      <td>2.545</td>\n",
       "      <td>274.94615</td>\n",
       "      <td>0.000606</td>\n",
       "      <td>8.971970e-07</td>\n",
       "      <td>36.308274</td>\n",
       "    </tr>\n",
       "    <tr>\n",
       "      <th>7</th>\n",
       "      <td>ET 130</td>\n",
       "      <td>Rep D</td>\n",
       "      <td>3832</td>\n",
       "      <td>497.500043</td>\n",
       "      <td>2.233070</td>\n",
       "      <td>3.832</td>\n",
       "      <td>199.77810</td>\n",
       "      <td>0.000440</td>\n",
       "      <td>6.519106e-07</td>\n",
       "      <td>26.381886</td>\n",
       "    </tr>\n",
       "  </tbody>\n",
       "</table>\n",
       "</div>"
      ],
      "text/plain": [
       "    treatment replicate  drainage_cm3   N_mg_per_L  drainage_in  drainage_L  \\\n",
       "0  CropManage     Rep A           403    80.400000     0.234845       0.403   \n",
       "1  CropManage     Rep B          2155   793.543095     1.255811       2.155   \n",
       "2  CropManage     Rep C             0     0.000000     0.000000       0.000   \n",
       "3  CropManage     Rep D             0     0.000000     0.000000       0.000   \n",
       "4      ET 130     Rep A          2038   398.185079     1.187630       2.038   \n",
       "5      ET 130     Rep B          6985   723.147601     4.070458       6.985   \n",
       "6      ET 130     Rep C          2545  1210.697264     1.483080       2.545   \n",
       "7      ET 130     Rep D          3832   497.500043     2.233070       3.832   \n",
       "\n",
       "        N_mg     N_lbs  N_lbs_per_cm2  N_lbs_per_acre  \n",
       "0   32.40120  0.000071   1.057307e-07        4.278771  \n",
       "1  326.85375  0.000721   1.066580e-06       43.162981  \n",
       "2    0.00000  0.000000   0.000000e+00        0.000000  \n",
       "3    0.00000  0.000000   0.000000e+00        0.000000  \n",
       "4  141.77360  0.000313   4.626319e-07       18.722047  \n",
       "5  670.62300  0.001478   2.188359e-06       88.559754  \n",
       "6  274.94615  0.000606   8.971970e-07       36.308274  \n",
       "7  199.77810  0.000440   6.519106e-07       26.381886  "
      ]
     },
     "execution_count": 109,
     "metadata": {},
     "output_type": "execute_result"
    }
   ],
   "source": [
    "cummulative_leachate = leachate.groupby(['treatment', 'replicate']).sum().copy()\n",
    "cummulative_leachate = cummulative_leachate.reset_index()\n",
    "cummulative_leachate"
   ]
  },
  {
   "cell_type": "markdown",
   "metadata": {},
   "source": [
    "### Use cummulative totals for each replicate (cummulative_leachate) to take mean cummulative per treatment\n",
    "**Note:** This step is uses the summed totals for each lysimter and groups them together to calculate treatment averages."
   ]
  },
  {
   "cell_type": "code",
   "execution_count": 110,
   "metadata": {},
   "outputs": [
    {
     "data": {
      "text/html": [
       "<div>\n",
       "<style>\n",
       "    .dataframe thead tr:only-child th {\n",
       "        text-align: right;\n",
       "    }\n",
       "\n",
       "    .dataframe thead th {\n",
       "        text-align: left;\n",
       "    }\n",
       "\n",
       "    .dataframe tbody tr th {\n",
       "        vertical-align: top;\n",
       "    }\n",
       "</style>\n",
       "<table border=\"1\" class=\"dataframe\">\n",
       "  <thead>\n",
       "    <tr style=\"text-align: right;\">\n",
       "      <th></th>\n",
       "      <th>drainage_cm3</th>\n",
       "      <th>N_mg_per_L</th>\n",
       "      <th>drainage_in</th>\n",
       "      <th>drainage_L</th>\n",
       "      <th>N_mg</th>\n",
       "      <th>N_lbs</th>\n",
       "      <th>N_lbs_per_cm2</th>\n",
       "      <th>N_lbs_per_acre</th>\n",
       "    </tr>\n",
       "    <tr>\n",
       "      <th>treatment</th>\n",
       "      <th></th>\n",
       "      <th></th>\n",
       "      <th></th>\n",
       "      <th></th>\n",
       "      <th></th>\n",
       "      <th></th>\n",
       "      <th></th>\n",
       "      <th></th>\n",
       "    </tr>\n",
       "  </thead>\n",
       "  <tbody>\n",
       "    <tr>\n",
       "      <th>CropManage</th>\n",
       "      <td>639.5</td>\n",
       "      <td>218.485774</td>\n",
       "      <td>0.372664</td>\n",
       "      <td>0.6395</td>\n",
       "      <td>89.813738</td>\n",
       "      <td>0.000198</td>\n",
       "      <td>2.930778e-07</td>\n",
       "      <td>11.860438</td>\n",
       "    </tr>\n",
       "    <tr>\n",
       "      <th>ET 130</th>\n",
       "      <td>3850.0</td>\n",
       "      <td>707.382497</td>\n",
       "      <td>2.243560</td>\n",
       "      <td>3.8500</td>\n",
       "      <td>321.780213</td>\n",
       "      <td>0.000709</td>\n",
       "      <td>1.050025e-06</td>\n",
       "      <td>42.492990</td>\n",
       "    </tr>\n",
       "  </tbody>\n",
       "</table>\n",
       "</div>"
      ],
      "text/plain": [
       "            drainage_cm3  N_mg_per_L  drainage_in  drainage_L        N_mg  \\\n",
       "treatment                                                                   \n",
       "CropManage         639.5  218.485774     0.372664      0.6395   89.813738   \n",
       "ET 130            3850.0  707.382497     2.243560      3.8500  321.780213   \n",
       "\n",
       "               N_lbs  N_lbs_per_cm2  N_lbs_per_acre  \n",
       "treatment                                            \n",
       "CropManage  0.000198   2.930778e-07       11.860438  \n",
       "ET 130      0.000709   1.050025e-06       42.492990  "
      ]
     },
     "execution_count": 110,
     "metadata": {},
     "output_type": "execute_result"
    }
   ],
   "source": [
    "# Groupby treatment and take the mean\n",
    "average_leachate = cummulative_leachate.groupby(['treatment']).mean()\n",
    "\n",
    "# View dataframe with summaries for each treatment\n",
    "average_leachate"
   ]
  },
  {
   "cell_type": "code",
   "execution_count": null,
   "metadata": {
    "collapsed": true
   },
   "outputs": [],
   "source": []
  },
  {
   "cell_type": "code",
   "execution_count": null,
   "metadata": {
    "collapsed": true
   },
   "outputs": [],
   "source": []
  },
  {
   "cell_type": "code",
   "execution_count": null,
   "metadata": {
    "collapsed": true
   },
   "outputs": [],
   "source": []
  },
  {
   "cell_type": "code",
   "execution_count": null,
   "metadata": {
    "collapsed": true
   },
   "outputs": [],
   "source": []
  },
  {
   "cell_type": "code",
   "execution_count": null,
   "metadata": {
    "collapsed": true
   },
   "outputs": [],
   "source": []
  },
  {
   "cell_type": "code",
   "execution_count": null,
   "metadata": {
    "collapsed": true
   },
   "outputs": [],
   "source": []
  },
  {
   "cell_type": "code",
   "execution_count": null,
   "metadata": {
    "collapsed": true
   },
   "outputs": [],
   "source": []
  },
  {
   "cell_type": "code",
   "execution_count": null,
   "metadata": {
    "collapsed": true
   },
   "outputs": [],
   "source": []
  },
  {
   "cell_type": "code",
   "execution_count": null,
   "metadata": {
    "collapsed": true
   },
   "outputs": [],
   "source": []
  },
  {
   "cell_type": "code",
   "execution_count": null,
   "metadata": {
    "collapsed": true
   },
   "outputs": [],
   "source": []
  },
  {
   "cell_type": "code",
   "execution_count": null,
   "metadata": {
    "collapsed": true
   },
   "outputs": [],
   "source": []
  },
  {
   "cell_type": "code",
   "execution_count": null,
   "metadata": {
    "collapsed": true
   },
   "outputs": [],
   "source": []
  }
 ],
 "metadata": {
  "kernelspec": {
   "display_name": "Python 3",
   "language": "python",
   "name": "python3"
  },
  "language_info": {
   "codemirror_mode": {
    "name": "ipython",
    "version": 3
   },
   "file_extension": ".py",
   "mimetype": "text/x-python",
   "name": "python",
   "nbconvert_exporter": "python",
   "pygments_lexer": "ipython3",
   "version": "3.6.1"
  }
 },
 "nbformat": 4,
 "nbformat_minor": 2
}
