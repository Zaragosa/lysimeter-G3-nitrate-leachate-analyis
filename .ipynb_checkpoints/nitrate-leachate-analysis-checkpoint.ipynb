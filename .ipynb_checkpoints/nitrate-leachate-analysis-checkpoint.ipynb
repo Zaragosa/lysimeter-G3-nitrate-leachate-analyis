{
 "cells": [
  {
   "cell_type": "markdown",
   "metadata": {},
   "source": [
    "## Nitrate Leachate and Deep Drainage Analysis (randomized block design)\n",
    "\n",
    "**Note:** The data used here is an example and not necessarily based on real-world data. This is more of a guide for our internal NASA ARC CREST group, along with partners, students, and collaborators. The example here represents a study that would be conducted in a  large-scale commercial agricultural setting."
   ]
  },
  {
   "cell_type": "markdown",
   "metadata": {},
   "source": [
    "**Purpose of Notebook:** Document a general workflow that can be used as a starting place when analyzing deep drainage/leachate from field studies using G3 lysimeters to collect drainage/leachate data, flow meters to collect total applied water data, and CropManage to collect total applied fertilizer. \n",
    "\n",
    "[Link to G3 Drain Gauge Manual](http://library.metergroup.com/Manuals/13677_G3%20Drain%20Gauge_Web.pdf)"
   ]
  },
  {
   "cell_type": "markdown",
   "metadata": {},
   "source": [
    "\n",
    "\n",
    "**Data Needed for Analysis:** The following 3 datasets in the Tidy Format are required (see example data on Github)\n",
    "\n",
    "[Link to Repository on Jason Dexter's GitHub that includes example datasets](http://vita.had.co.nz/papers/tidy-data.html)\n",
    "\n",
    "1. Fertilizer Application: **tidy-fertilizer-data**\n",
    "2. Drainage and Leachate: **tidy-lysimeter-data**\n",
    "3. Irrigation Application: **tidy-irrigation-data**\n",
    "\n",
    "**Note:** It is very important that you setup your tables the same way as the tidy-data examples (long-table format, not wide-table).\n",
    "\n",
    "[Link to Tidy Data explanation (Hadley Wickham)](http://vita.had.co.nz/papers/tidy-data.html)"
   ]
  },
  {
   "cell_type": "markdown",
   "metadata": {},
   "source": [
    "# Sections included in this Jupyter Notebook\n",
    "1. Creating variables specific to study\n",
    "2. Importing libraries and setting parameters for plotting/visualizations\n",
    "3. Importing and preparing datasets\n",
    "4. Exploratory Data Analysis (raw leachate/drainage data)\n",
    "5. Perform calculations and scaling on lysimeter data to calculate final metrics.\n",
    "6. Visualize and plot deep drainage and leachate over time.\n",
    "7. Incorporate irrigation data to visualize and compare Total Applied Water vs. Total Deep Drainage.\n",
    "8. Incorporate fertilizer data to visualize and compare Total Applied Fertilizer vs. Total Leachate."
   ]
  },
  {
   "cell_type": "markdown",
   "metadata": {},
   "source": [
    "---"
   ]
  },
  {
   "cell_type": "markdown",
   "metadata": {},
   "source": [
    "## Section 01: Creating variables specific to study (set specific to your needs)"
   ]
  },
  {
   "cell_type": "code",
   "execution_count": 1,
   "metadata": {
    "collapsed": true
   },
   "outputs": [],
   "source": [
    "# Important variables used later in analysis (update with specific values pertaining to your study)\n",
    "\n",
    "# Treatment names as they are in the tidy-datasets (for treatment comparisons)\n",
    "treatment_one = 'ET 130'\n",
    "treatment_two = 'CropManage'\n",
    "\n",
    "# Area of the divergence control tube (aoi_cm2) tube from the G3 lysimeter (i.e., Area of Influence)\n",
    "aoi_cm2 = 506.7  # CHANGE IF YOU HAVE DETERMINED AN ALTERNATIVE VALUE FOR YOUR AOI\n",
    "\n",
    "# Bed dimensions for crop studied (used for scaling results by assuming zero leaching in furrows)\n",
    "'''If you want to try the analysis without scaling, then replace both values below with the number 1'''\n",
    "width_of_bed = 60 # inches\n",
    "width_of_bed_plus_furrows = 80 #inches\n",
    "\n",
    "# Path to directory containing tidy-datasets (your jupyter notebook should be in the same place)\n",
    "path = r'C:\\Users\\jdext\\Desktop\\lysimeter-G3-nitrate-leachate-analyis'"
   ]
  },
  {
   "cell_type": "markdown",
   "metadata": {},
   "source": [
    "## Section 02: Importing libraries and setting parameters for plotting/visualizations"
   ]
  },
  {
   "cell_type": "code",
   "execution_count": 2,
   "metadata": {
    "collapsed": true
   },
   "outputs": [],
   "source": [
    "# Importing the libraries\n",
    "import os\n",
    "import pandas as pd\n",
    "import numpy as np\n",
    "import matplotlib.pyplot as plt\n",
    "import seaborn as sns\n",
    "\n",
    "# Magic command so that plots show in Notebook\n",
    "%matplotlib inline"
   ]
  },
  {
   "cell_type": "code",
   "execution_count": 3,
   "metadata": {
    "collapsed": true
   },
   "outputs": [],
   "source": [
    "# Setting style for all figures that will be made throughout notebook\n",
    "sns.set_context(\"paper\")\n",
    "sns.set(font='serif')\n",
    "sns.set_style(\"white\", {\"font.family\": \"serif\",\"font.serif\": [\"Times\", \"Palatino\", \"serif\"]})\n",
    "\n",
    "# set color scheme for plotting treatments summaries and assign them to lists\n",
    "colors_3 = ['lightcoral', 'seagreen', 'steelblue']   # with grower\n",
    "colors_2 = ['seagreen', 'steelblue']    # without grower\n",
    "\n",
    "# set order that treatments will be displayed in figures/plots and assign to lists\n",
    "order_3 = ['Grower','CropManage','ET 130']\n",
    "order_2 = ['CropManage','ET 130']"
   ]
  },
  {
   "cell_type": "markdown",
   "metadata": {},
   "source": [
    "## Section 03: Importing and preparing datasets"
   ]
  },
  {
   "cell_type": "code",
   "execution_count": 4,
   "metadata": {},
   "outputs": [
    {
     "name": "stdout",
     "output_type": "stream",
     "text": [
      "C:\\Users\\jdext\\Desktop\\lysimeter-G3-nitrate-leachate-analyis\n"
     ]
    }
   ],
   "source": [
    "# Change working directory using 'path' and print current directory for varification\n",
    "os.chdir(path); print(os.getcwd())\n",
    "\n",
    "# Importing the datasets\n",
    "fertilizer = pd.read_excel('_tidy-fertilizer-data.xlsx', header=0)\n",
    "irrigation = pd.read_excel('_tidy-irrigation-data.xlsx', header=0)\n",
    "lysimeter = pd.read_excel('_tidy-lysimeter-data.xlsx', header=0)"
   ]
  },
  {
   "cell_type": "markdown",
   "metadata": {},
   "source": [
    "#### Prepare tidy-ferlizer-data for analysis (applied Nitrogen data)"
   ]
  },
  {
   "cell_type": "code",
   "execution_count": 5,
   "metadata": {},
   "outputs": [
    {
     "data": {
      "text/html": [
       "<div>\n",
       "<style>\n",
       "    .dataframe thead tr:only-child th {\n",
       "        text-align: right;\n",
       "    }\n",
       "\n",
       "    .dataframe thead th {\n",
       "        text-align: left;\n",
       "    }\n",
       "\n",
       "    .dataframe tbody tr th {\n",
       "        vertical-align: top;\n",
       "    }\n",
       "</style>\n",
       "<table border=\"1\" class=\"dataframe\">\n",
       "  <thead>\n",
       "    <tr style=\"text-align: right;\">\n",
       "      <th></th>\n",
       "      <th>date</th>\n",
       "      <th>treatment</th>\n",
       "      <th>application_type</th>\n",
       "      <th>fertilizer</th>\n",
       "      <th>N_lbs_per_acre</th>\n",
       "    </tr>\n",
       "  </thead>\n",
       "  <tbody>\n",
       "    <tr>\n",
       "      <th>0</th>\n",
       "      <td>2017-04-07</td>\n",
       "      <td>Grower</td>\n",
       "      <td>Bed Listing</td>\n",
       "      <td>2.5-12-30</td>\n",
       "      <td>10.0</td>\n",
       "    </tr>\n",
       "    <tr>\n",
       "      <th>4</th>\n",
       "      <td>2017-04-07</td>\n",
       "      <td>CropManage</td>\n",
       "      <td>Bed Listing</td>\n",
       "      <td>2.5-12-30</td>\n",
       "      <td>10.0</td>\n",
       "    </tr>\n",
       "    <tr>\n",
       "      <th>11</th>\n",
       "      <td>2017-05-31</td>\n",
       "      <td>ET 130</td>\n",
       "      <td>2nd Drip Fertigation</td>\n",
       "      <td>20-0-0</td>\n",
       "      <td>45.1</td>\n",
       "    </tr>\n",
       "    <tr>\n",
       "      <th>7</th>\n",
       "      <td>2017-05-31</td>\n",
       "      <td>CropManage</td>\n",
       "      <td>2nd Drip Fertigation</td>\n",
       "      <td>20-0-0</td>\n",
       "      <td>30.0</td>\n",
       "    </tr>\n",
       "    <tr>\n",
       "      <th>2</th>\n",
       "      <td>2017-05-24</td>\n",
       "      <td>Grower</td>\n",
       "      <td>1st Drip Fertigation</td>\n",
       "      <td>20-0-0</td>\n",
       "      <td>60.0</td>\n",
       "    </tr>\n",
       "  </tbody>\n",
       "</table>\n",
       "</div>"
      ],
      "text/plain": [
       "         date   treatment      application_type fertilizer  N_lbs_per_acre\n",
       "0  2017-04-07      Grower           Bed Listing  2.5-12-30            10.0\n",
       "4  2017-04-07  CropManage           Bed Listing  2.5-12-30            10.0\n",
       "11 2017-05-31      ET 130  2nd Drip Fertigation     20-0-0            45.1\n",
       "7  2017-05-31  CropManage  2nd Drip Fertigation     20-0-0            30.0\n",
       "2  2017-05-24      Grower  1st Drip Fertigation     20-0-0            60.0"
      ]
     },
     "execution_count": 5,
     "metadata": {},
     "output_type": "execute_result"
    }
   ],
   "source": [
    "# Subset columns needed for analysis\n",
    "applied_N = fertilizer[['date','treatment','application_type','fertilizer','N_lbs_per_acre']].copy()\n",
    "\n",
    "# Set columns to appropriate data types\n",
    "applied_N.treatment = fertilizer.treatment.astype('category')\n",
    "\n",
    "# View prepared ferlizer data\n",
    "applied_N.sample(5) # choose 5 random records and display as pandas dataframe"
   ]
  },
  {
   "cell_type": "markdown",
   "metadata": {},
   "source": [
    "#### Prepare tidy-lysimeter-data (deep drainage and leachate data)"
   ]
  },
  {
   "cell_type": "code",
   "execution_count": 6,
   "metadata": {},
   "outputs": [
    {
     "data": {
      "text/html": [
       "<div>\n",
       "<style>\n",
       "    .dataframe thead tr:only-child th {\n",
       "        text-align: right;\n",
       "    }\n",
       "\n",
       "    .dataframe thead th {\n",
       "        text-align: left;\n",
       "    }\n",
       "\n",
       "    .dataframe tbody tr th {\n",
       "        vertical-align: top;\n",
       "    }\n",
       "</style>\n",
       "<table border=\"1\" class=\"dataframe\">\n",
       "  <thead>\n",
       "    <tr style=\"text-align: right;\">\n",
       "      <th></th>\n",
       "      <th>event</th>\n",
       "      <th>date</th>\n",
       "      <th>DAP</th>\n",
       "      <th>treatment</th>\n",
       "      <th>replicate</th>\n",
       "      <th>drainage_cm3</th>\n",
       "      <th>N_mg_per_L</th>\n",
       "    </tr>\n",
       "  </thead>\n",
       "  <tbody>\n",
       "    <tr>\n",
       "      <th>62</th>\n",
       "      <td>8</td>\n",
       "      <td>2017-06-14</td>\n",
       "      <td>63</td>\n",
       "      <td>CropManage</td>\n",
       "      <td>Rep C</td>\n",
       "      <td>0</td>\n",
       "      <td>0.000000</td>\n",
       "    </tr>\n",
       "    <tr>\n",
       "      <th>33</th>\n",
       "      <td>5</td>\n",
       "      <td>2017-05-31</td>\n",
       "      <td>49</td>\n",
       "      <td>ET 130</td>\n",
       "      <td>Rep B</td>\n",
       "      <td>1100</td>\n",
       "      <td>157.036364</td>\n",
       "    </tr>\n",
       "    <tr>\n",
       "      <th>56</th>\n",
       "      <td>8</td>\n",
       "      <td>2017-06-14</td>\n",
       "      <td>63</td>\n",
       "      <td>ET 130</td>\n",
       "      <td>Rep A</td>\n",
       "      <td>280</td>\n",
       "      <td>74.507143</td>\n",
       "    </tr>\n",
       "    <tr>\n",
       "      <th>69</th>\n",
       "      <td>9</td>\n",
       "      <td>2017-06-16</td>\n",
       "      <td>65</td>\n",
       "      <td>CropManage</td>\n",
       "      <td>Rep B</td>\n",
       "      <td>0</td>\n",
       "      <td>0.000000</td>\n",
       "    </tr>\n",
       "    <tr>\n",
       "      <th>38</th>\n",
       "      <td>5</td>\n",
       "      <td>2017-05-31</td>\n",
       "      <td>49</td>\n",
       "      <td>CropManage</td>\n",
       "      <td>Rep C</td>\n",
       "      <td>0</td>\n",
       "      <td>0.000000</td>\n",
       "    </tr>\n",
       "  </tbody>\n",
       "</table>\n",
       "</div>"
      ],
      "text/plain": [
       "    event       date  DAP   treatment replicate  drainage_cm3  N_mg_per_L\n",
       "62      8 2017-06-14   63  CropManage     Rep C             0    0.000000\n",
       "33      5 2017-05-31   49      ET 130     Rep B          1100  157.036364\n",
       "56      8 2017-06-14   63      ET 130     Rep A           280   74.507143\n",
       "69      9 2017-06-16   65  CropManage     Rep B             0    0.000000\n",
       "38      5 2017-05-31   49  CropManage     Rep C             0    0.000000"
      ]
     },
     "execution_count": 6,
     "metadata": {},
     "output_type": "execute_result"
    }
   ],
   "source": [
    "# Subset columns needed for analysis\n",
    "leachate_raw = lysimeter.loc[:, ['event', 'date', 'DAP', 'treatment', 'replicate', 'drainage_ml', 'N_mg_per_L'] ].copy()\n",
    "\n",
    "# rename drainage_ml to drainage_cm3 so that later conversions and calculations makes more sense\n",
    "leachate_raw.rename(columns={'drainage_ml': 'drainage_cm3'}, inplace=True)  # 1 ml = 1 cm^3\n",
    "\n",
    "# Set columns to appropriate data types\n",
    "leachate_raw.replicate = leachate_raw.replicate.astype('category')\n",
    "leachate_raw.treatment = leachate_raw.treatment.astype('category')\n",
    "\n",
    "# View prepared lysimeter data\n",
    "leachate_raw.sample(5) # choose 5 random records and display as pandas dataframe"
   ]
  },
  {
   "cell_type": "markdown",
   "metadata": {},
   "source": [
    "#### Prepare tidy-irrigation-data for analysis (applied water data)\n",
    "**Note:** The raw irrigation data collected by flow meters was converted from gallons to inches using the acreage of each treatment."
   ]
  },
  {
   "cell_type": "code",
   "execution_count": 7,
   "metadata": {},
   "outputs": [
    {
     "data": {
      "text/html": [
       "<div>\n",
       "<style>\n",
       "    .dataframe thead tr:only-child th {\n",
       "        text-align: right;\n",
       "    }\n",
       "\n",
       "    .dataframe thead th {\n",
       "        text-align: left;\n",
       "    }\n",
       "\n",
       "    .dataframe tbody tr th {\n",
       "        vertical-align: top;\n",
       "    }\n",
       "</style>\n",
       "<table border=\"1\" class=\"dataframe\">\n",
       "  <thead>\n",
       "    <tr style=\"text-align: right;\">\n",
       "      <th></th>\n",
       "      <th>date</th>\n",
       "      <th>DAP</th>\n",
       "      <th>treatment</th>\n",
       "      <th>irrigation_type</th>\n",
       "      <th>irrigation_in</th>\n",
       "      <th>irrigation_mm</th>\n",
       "    </tr>\n",
       "  </thead>\n",
       "  <tbody>\n",
       "    <tr>\n",
       "      <th>12</th>\n",
       "      <td>2017-05-20</td>\n",
       "      <td>38</td>\n",
       "      <td>ET 130</td>\n",
       "      <td>drip</td>\n",
       "      <td>0.66</td>\n",
       "      <td>16.764</td>\n",
       "    </tr>\n",
       "    <tr>\n",
       "      <th>4</th>\n",
       "      <td>2017-04-15</td>\n",
       "      <td>3</td>\n",
       "      <td>ET 130</td>\n",
       "      <td>sprinkler</td>\n",
       "      <td>0.33</td>\n",
       "      <td>8.382</td>\n",
       "    </tr>\n",
       "    <tr>\n",
       "      <th>35</th>\n",
       "      <td>2017-06-19</td>\n",
       "      <td>68</td>\n",
       "      <td>Grower</td>\n",
       "      <td>drip</td>\n",
       "      <td>0.00</td>\n",
       "      <td>0.000</td>\n",
       "    </tr>\n",
       "    <tr>\n",
       "      <th>23</th>\n",
       "      <td>2017-06-09</td>\n",
       "      <td>58</td>\n",
       "      <td>CropManage</td>\n",
       "      <td>drip</td>\n",
       "      <td>0.47</td>\n",
       "      <td>11.938</td>\n",
       "    </tr>\n",
       "    <tr>\n",
       "      <th>14</th>\n",
       "      <td>2017-05-24</td>\n",
       "      <td>42</td>\n",
       "      <td>CropManage</td>\n",
       "      <td>drip</td>\n",
       "      <td>0.63</td>\n",
       "      <td>16.002</td>\n",
       "    </tr>\n",
       "  </tbody>\n",
       "</table>\n",
       "</div>"
      ],
      "text/plain": [
       "         date  DAP   treatment irrigation_type  irrigation_in  irrigation_mm\n",
       "12 2017-05-20   38      ET 130            drip           0.66         16.764\n",
       "4  2017-04-15    3      ET 130       sprinkler           0.33          8.382\n",
       "35 2017-06-19   68      Grower            drip           0.00          0.000\n",
       "23 2017-06-09   58  CropManage            drip           0.47         11.938\n",
       "14 2017-05-24   42  CropManage            drip           0.63         16.002"
      ]
     },
     "execution_count": 7,
     "metadata": {},
     "output_type": "execute_result"
    }
   ],
   "source": [
    "# Subset columns needed for analysis\n",
    "applied_h2o = irrigation.loc[:, ['date', 'DAP', 'treatment', 'irrigation_type', 'irrigation_in', 'irrigation_mm']].copy()\n",
    "\n",
    "# Set columns to appropriate data types\n",
    "applied_h2o.treatment = applied_h2o.treatment.astype('category')\n",
    "applied_h2o.irrigation_type = applied_h2o.irrigation_type.astype('category')\n",
    "\n",
    "# View prepared irrigation data\n",
    "applied_h2o.sample(5) # choose 5 random records and display as pandas dataframe"
   ]
  },
  {
   "cell_type": "markdown",
   "metadata": {},
   "source": [
    "## Section 04: Exploratory Data Analysis (raw leachate/drainage data)"
   ]
  },
  {
   "cell_type": "code",
   "execution_count": 8,
   "metadata": {
    "collapsed": true
   },
   "outputs": [],
   "source": [
    "# setup function for plotting raw lysimeter data\n",
    "def explore_raw_lysimeter_data(raw_data, treatment_one, treatment_two): \n",
    "    fig, ax=plt.subplots(2,1,figsize=(10,8)) # initiate figure and axis objects\n",
    "    sns.set(style=\"ticks\", rc={\"lines.linewidth\": 1}) # controls the width of the plotted lines\n",
    "    # plot drainage\n",
    "    ax = sns.pointplot(x=\"DAP\", y=\"drainage_cm3\", hue=\"treatment\", hue_order=[treatment_one, treatment_two],\n",
    "                       data=raw_data, palette=['black','grey'],errwidth=1, markers=[\"o\", \"^\"],\n",
    "                       capsize=0.25, linestyles=[\"-\", \"--\"], linewidth=5, ax=ax[0]) \n",
    "    ax.set_xlabel(xlabel='', fontsize=20,labelpad=15);\n",
    "    ax.set_ylabel('Pumped drainage (ml)', fontsize=14, labelpad=14); # ax.set_ylim(-20,300)\n",
    "    ax.tick_params(labelsize=15); \n",
    "    # plot nitrate concentration\n",
    "    ax1 = sns.pointplot(x=\"DAP\", y=\"N_mg_per_L\", hue=\"treatment\", hue_order=[treatment_one, treatment_two],\n",
    "                        data=raw_data, palette=['black','grey'],\n",
    "                       errwidth=1, markers=[\"o\", \"^\"], capsize=0.25, linestyles=[\"-\", \"--\"], linewidth=5)\n",
    "    ax1.set_xlabel(xlabel='Days After Transplant (DAT)', fontsize=16,labelpad=15);\n",
    "    ax1.set_ylabel('Nitrate concentration (mg/L)', fontsize=14, labelpad=14); # ax1.set_ylim(-20,300) \n",
    "    ax1.tick_params(labelsize=15); \n",
    "    sns.despine() # remove upper and righhand spines\n",
    "    return fig, ax"
   ]
  },
  {
   "cell_type": "markdown",
   "metadata": {},
   "source": [
    "#### Plot the unscaled raw lysimeter data that was pumped/collected on site and the raw nitrate concentrations from the laboratory analysis.\n",
    "\n",
    "**Note:** This is the mean of the replicates associated with each treatment"
   ]
  },
  {
   "cell_type": "code",
   "execution_count": 9,
   "metadata": {},
   "outputs": [
    {
     "data": {
      "text/plain": [
       "(<matplotlib.figure.Figure at 0x1fd3c8ef940>,\n",
       " <matplotlib.axes._subplots.AxesSubplot at 0x1fd3c8effd0>)"
      ]
     },
     "execution_count": 9,
     "metadata": {},
     "output_type": "execute_result"
    },
    {
     "data": {
      "image/png": "[encoded data removed]",
      "text/plain": [
       "<matplotlib.figure.Figure at 0x1fd3c8ef940>"
      ]
     },
     "metadata": {},
     "output_type": "display_data"
    }
   ],
   "source": [
    "# Use function and view plot of raw unscaled data\n",
    "explore_raw_lysimeter_data(leachate_raw, treatment_one, treatment_two)"
   ]
  },
  {
   "cell_type": "markdown",
   "metadata": {},
   "source": [
    "#### Scatter plot of concentrations followed by drainage for each treatment to see variation with treatment replicates"
   ]
  },
  {
   "cell_type": "code",
   "execution_count": 10,
   "metadata": {},
   "outputs": [
    {
     "data": {
      "text/plain": [
       "<seaborn.axisgrid.FacetGrid at 0x1fd3d2189e8>"
      ]
     },
     "execution_count": 10,
     "metadata": {},
     "output_type": "execute_result"
    },
    {
     "data": {
      "image/png": "[encoded data removed]",
      "text/plain": [
       "<matplotlib.figure.Figure at 0x1fd3d218b38>"
      ]
     },
     "metadata": {},
     "output_type": "display_data"
    }
   ],
   "source": [
    "# Explore nitrate concentration (mg/L) and the variability between treatments and replicates\n",
    "sns.factorplot(x=\"DAP\", y=\"N_mg_per_L\", hue=\"replicate\",\n",
    "    col=\"treatment\", data=lysimeter, kind=\"swarm\")"
   ]
  },
  {
   "cell_type": "code",
   "execution_count": 11,
   "metadata": {},
   "outputs": [
    {
     "data": {
      "text/plain": [
       "<seaborn.axisgrid.FacetGrid at 0x1fd3c7cdeb8>"
      ]
     },
     "execution_count": 11,
     "metadata": {},
     "output_type": "execute_result"
    },
    {
     "data": {
      "image/png": "[encoded data removed]",
      "text/plain": [
       "<matplotlib.figure.Figure at 0x1fd3e20e898>"
      ]
     },
     "metadata": {},
     "output_type": "display_data"
    }
   ],
   "source": [
    "# Explore drainage volumes (ml) and the variability between treatments and replicates\n",
    "sns.factorplot(x=\"DAP\", y=\"drainage_ml\", hue=\"replicate\",\n",
    "    col=\"treatment\", data=lysimeter, kind=\"swarm\")"
   ]
  },
  {
   "cell_type": "markdown",
   "metadata": {},
   "source": [
    "## Section 05: Perform calculations and scaling on lysimeter data to calculate final metrics.\n",
    "\n",
    "**Note:** This is the primary section of the leachate analysis. Here we are applying specific calculations and conversions that take the raw drainage data and the raw nitrate concentration data and transform them into the final metrics. The final metrics will be in the appropriate units that allow for easy comparisons with other summary statistics (e.g., applied water/acre and applied fertilizer/acre)"
   ]
  },
  {
   "cell_type": "markdown",
   "metadata": {},
   "source": [
    "**The general workflow for the leachate analysis is as follows:**\n",
    "\n",
    "1. Setup conversion factors.\n",
    "2. Determine and create necessary area of influence (AOI) and scaling factor.\n",
    "3. Use pumped volumes and nitrate concentrations to calculate each component necessary for the final metrics.\n",
    "    - Calculate drainage in inches (from volume). \n",
    "    - Convert milliliters (same as cm^3 b/c 1 ml = 1 cm^3) to liters.\n",
    "    - Calculate milligrams of N (N_mg) by multiplying drainage (L) times concentration (mg/L).\n",
    "    - Calculate pounds of N (N_lbs) by multiplying concentration (N_mg) times the milligrams to pounds conversion factor.\n",
    "    - Calculate pounds of N per square centimeters.\n",
    "    - Calculate pounds of N per acre.\n",
    "\n",
    "**Note:** Each of these calculations and/or conversions is added as a new column to the leachate data frame (calculations happen to each instance (record) in the dataframe). The output dataframe then has everything to easily summarize drainage or leachate for the study (e.g., by treatment and by replicate)"
   ]
  },
  {
   "cell_type": "markdown",
   "metadata": {},
   "source": [
    "#### 1) Setup conversion factors"
   ]
  },
  {
   "cell_type": "code",
   "execution_count": 12,
   "metadata": {
    "collapsed": true
   },
   "outputs": [],
   "source": [
    "# Conversions needed for analysis\n",
    "# conversion factor for milligrams to pounds (lbs in a mg)\n",
    "mg_to_lbs = 0.0000022046   #   lb = mg * 0.0000022046\n",
    "\n",
    "# conversion factor for total square cinemiters in an Acre\n",
    "cm2_in_acre = 40468564.224\n",
    "\n",
    "# Conversion factor for going from inches to centimeters\n",
    "inch_to_cm = 2.54 # conversion factor: centimeters per inch\n",
    "\n",
    "# Conversion factor for going from centimeters to inches\n",
    "cm_to_inches = 0.393701 # conversion factor: inches per centimeter"
   ]
  },
  {
   "cell_type": "markdown",
   "metadata": {},
   "source": [
    "#### 2) Determine and create necessary area of influence (AOI) and scaling factor (assumes no leaching in furrows).\n",
    "\n",
    "**Note:** These are in centimeters because they will be used to do calculations on drainage in the leachate dataframe"
   ]
  },
  {
   "cell_type": "code",
   "execution_count": 13,
   "metadata": {},
   "outputs": [
    {
     "name": "stdout",
     "output_type": "stream",
     "text": [
      "The Area of Influence being used is:  506.7  cm\n",
      "The Scaling factor used that assumes the furrows had no drainage is:  0.7500000000000001\n"
     ]
    }
   ],
   "source": [
    "# Function to create scaling factor that assumes no leaching in furrows\n",
    "def create_scaling_factor(width_of_bed=1, width_of_bed_plus_furrows=1):\n",
    "    '''The output of this function will be in centimeters'''\n",
    "    '''This is important for later conversions'''\n",
    "    # convert width of just the bed from inches to centimeters\n",
    "    width_of_bed_cm = width_of_bed * inch_to_cm # centimeters\n",
    "    # convert width of bed (with furrows) from inches to centimeters\n",
    "    width_of_bed_plus_furrows_cm = width_of_bed_plus_furrows * inch_to_cm # centimeters\n",
    "    # calculate scaling factor that assumes there was no drainage in furrows\n",
    "    scaling_factor_cm = width_of_bed_cm / width_of_bed_plus_furrows_cm    \n",
    "    return scaling_factor_cm\n",
    "\n",
    "furrow_scalar = create_scaling_factor(width_of_bed, width_of_bed_plus_furrows)\n",
    "\n",
    "# Check to be sure aoi_cm2 and furrow_scalar are what you expect\n",
    "print(\"The Area of Influence being used is: \", aoi_cm2, \" cm\")\n",
    "print(\"The Scaling factor used that assumes the furrows had no drainage is: \", furrow_scalar)"
   ]
  },
  {
   "cell_type": "markdown",
   "metadata": {},
   "source": [
    "**Important:** Double check scalar and area of influence printout above to be sure it's what you expected."
   ]
  },
  {
   "cell_type": "markdown",
   "metadata": {},
   "source": [
    "## Now, we are scaling the data and converted everything to appropriate units"
   ]
  },
  {
   "cell_type": "markdown",
   "metadata": {},
   "source": [
    "#### 3) Use pumped volumes and nitrate concentrations to calculate each component necessary for the final metrics."
   ]
  },
  {
   "cell_type": "code",
   "execution_count": 14,
   "metadata": {
    "scrolled": true
   },
   "outputs": [
    {
     "data": {
      "text/html": [
       "<div>\n",
       "<style>\n",
       "    .dataframe thead tr:only-child th {\n",
       "        text-align: right;\n",
       "    }\n",
       "\n",
       "    .dataframe thead th {\n",
       "        text-align: left;\n",
       "    }\n",
       "\n",
       "    .dataframe tbody tr th {\n",
       "        vertical-align: top;\n",
       "    }\n",
       "</style>\n",
       "<table border=\"1\" class=\"dataframe\">\n",
       "  <thead>\n",
       "    <tr style=\"text-align: right;\">\n",
       "      <th></th>\n",
       "      <th>event</th>\n",
       "      <th>date</th>\n",
       "      <th>DAP</th>\n",
       "      <th>treatment</th>\n",
       "      <th>replicate</th>\n",
       "      <th>drainage_cm3</th>\n",
       "      <th>N_mg_per_L</th>\n",
       "      <th>drainage_in</th>\n",
       "      <th>drainage_L</th>\n",
       "      <th>N_mg</th>\n",
       "      <th>N_lbs</th>\n",
       "      <th>N_lbs_per_cm2</th>\n",
       "      <th>N_lbs_per_acre</th>\n",
       "    </tr>\n",
       "  </thead>\n",
       "  <tbody>\n",
       "    <tr>\n",
       "      <th>73</th>\n",
       "      <td>10</td>\n",
       "      <td>2017-06-20</td>\n",
       "      <td>69</td>\n",
       "      <td>ET 130</td>\n",
       "      <td>Rep B</td>\n",
       "      <td>1805</td>\n",
       "      <td>64.93</td>\n",
       "      <td>1.05</td>\n",
       "      <td>1.80</td>\n",
       "      <td>117.19</td>\n",
       "      <td>0.0</td>\n",
       "      <td>0.0</td>\n",
       "      <td>15.48</td>\n",
       "    </tr>\n",
       "    <tr>\n",
       "      <th>77</th>\n",
       "      <td>10</td>\n",
       "      <td>2017-06-20</td>\n",
       "      <td>69</td>\n",
       "      <td>CropManage</td>\n",
       "      <td>Rep B</td>\n",
       "      <td>0</td>\n",
       "      <td>0.00</td>\n",
       "      <td>0.00</td>\n",
       "      <td>0.00</td>\n",
       "      <td>0.00</td>\n",
       "      <td>0.0</td>\n",
       "      <td>0.0</td>\n",
       "      <td>0.00</td>\n",
       "    </tr>\n",
       "    <tr>\n",
       "      <th>75</th>\n",
       "      <td>10</td>\n",
       "      <td>2017-06-20</td>\n",
       "      <td>69</td>\n",
       "      <td>ET 130</td>\n",
       "      <td>Rep D</td>\n",
       "      <td>507</td>\n",
       "      <td>158.20</td>\n",
       "      <td>0.30</td>\n",
       "      <td>0.51</td>\n",
       "      <td>80.21</td>\n",
       "      <td>0.0</td>\n",
       "      <td>0.0</td>\n",
       "      <td>10.59</td>\n",
       "    </tr>\n",
       "    <tr>\n",
       "      <th>15</th>\n",
       "      <td>2</td>\n",
       "      <td>2017-05-15</td>\n",
       "      <td>33</td>\n",
       "      <td>CropManage</td>\n",
       "      <td>Rep D</td>\n",
       "      <td>0</td>\n",
       "      <td>0.00</td>\n",
       "      <td>0.00</td>\n",
       "      <td>0.00</td>\n",
       "      <td>0.00</td>\n",
       "      <td>0.0</td>\n",
       "      <td>0.0</td>\n",
       "      <td>0.00</td>\n",
       "    </tr>\n",
       "    <tr>\n",
       "      <th>39</th>\n",
       "      <td>5</td>\n",
       "      <td>2017-05-31</td>\n",
       "      <td>49</td>\n",
       "      <td>CropManage</td>\n",
       "      <td>Rep D</td>\n",
       "      <td>0</td>\n",
       "      <td>0.00</td>\n",
       "      <td>0.00</td>\n",
       "      <td>0.00</td>\n",
       "      <td>0.00</td>\n",
       "      <td>0.0</td>\n",
       "      <td>0.0</td>\n",
       "      <td>0.00</td>\n",
       "    </tr>\n",
       "  </tbody>\n",
       "</table>\n",
       "</div>"
      ],
      "text/plain": [
       "    event       date  DAP   treatment replicate  drainage_cm3  N_mg_per_L  \\\n",
       "73     10 2017-06-20   69      ET 130     Rep B          1805       64.93   \n",
       "77     10 2017-06-20   69  CropManage     Rep B             0        0.00   \n",
       "75     10 2017-06-20   69      ET 130     Rep D           507      158.20   \n",
       "15      2 2017-05-15   33  CropManage     Rep D             0        0.00   \n",
       "39      5 2017-05-31   49  CropManage     Rep D             0        0.00   \n",
       "\n",
       "    drainage_in  drainage_L    N_mg  N_lbs  N_lbs_per_cm2  N_lbs_per_acre  \n",
       "73         1.05        1.80  117.19    0.0            0.0           15.48  \n",
       "77         0.00        0.00    0.00    0.0            0.0            0.00  \n",
       "75         0.30        0.51   80.21    0.0            0.0           10.59  \n",
       "15         0.00        0.00    0.00    0.0            0.0            0.00  \n",
       "39         0.00        0.00    0.00    0.0            0.0            0.00  "
      ]
     },
     "execution_count": 14,
     "metadata": {},
     "output_type": "execute_result"
    }
   ],
   "source": [
    "# Calculate drainage in inches (in) for each record and add resulting column to dataframe\n",
    "leachate_raw.loc[:,'drainage_in'] = (leachate_raw.loc[:, 'drainage_cm3'] / aoi_cm2) * furrow_scalar * cm_to_inches\n",
    "\n",
    "# Calculate drainage in liters (L) for each record and add resulting column to dataframe\n",
    "leachate_raw.loc[:,'drainage_L'] = leachate_raw.loc[:,'drainage_cm3'] / 1000\n",
    "\n",
    "# Calculate nitrate in miligrams (mg) for each record and add resulting column to dataframe\n",
    "leachate_raw.loc[:,'N_mg'] = leachate_raw.loc[:,'N_mg_per_L'] * leachate_raw.loc[:,'drainage_L'] \n",
    "\n",
    "# Calculate nitrate in pounds (lb) for each record and add resulting column to dataframe\n",
    "leachate_raw.loc[:,'N_lbs'] = leachate_raw.loc[:,'N_mg'] * mg_to_lbs\n",
    "\n",
    "# Calculate lbs of N per sampling area (cm^2) for each record and add resulting column to dataframe\n",
    "leachate_raw.loc[:,'N_lbs_per_cm2'] = (leachate_raw.loc[:,'N_lbs'] / aoi_cm2 * furrow_scalar)\n",
    "\n",
    "# Convert lbs of N per cm^2 to lbs of N per Acre for each record and add resulting column to dataframe\n",
    "leachate_raw.loc[:,'N_lbs_per_acre'] = leachate_raw.loc[:,'N_lbs_per_cm2'] * cm2_in_acre\n",
    "    \n",
    "# Save raw leachate data that has now been scaled into a new variable called: leachate_scaled\n",
    "leachate_scaled = leachate_raw.copy()\n",
    "    \n",
    "# view 5 randomly selected records from your table\n",
    "leachate_scaled.sample(5).round(2)"
   ]
  },
  {
   "cell_type": "markdown",
   "metadata": {},
   "source": [
    "---\n",
    "\n",
    "\n",
    "---"
   ]
  },
  {
   "cell_type": "markdown",
   "metadata": {},
   "source": [
    "# Section 06: Visualize and plot deep drainage and leachate over time."
   ]
  },
  {
   "cell_type": "code",
   "execution_count": 15,
   "metadata": {
    "collapsed": true
   },
   "outputs": [],
   "source": [
    "def explore_scaled_lysimeter_data(tidy_data, treatment_one, treatment_two): \n",
    "    fig, ax=plt.subplots(2,1,figsize=(10,8)) # initiate figure and axis objects\n",
    "    sns.set(style=\"ticks\", rc={\"lines.linewidth\": 1})\n",
    "    # plot drainage\n",
    "    ax = sns.pointplot(x=\"DAP\", y=\"drainage_in\", hue=\"treatment\", hue_order=[treatment_one, treatment_two],\n",
    "                       data=tidy_data, palette=['black','grey'],\n",
    "                       errwidth=1, markers=[\"o\", \"^\"], capsize=0.25, linestyles=[\"-\", \"--\"], linewidth=5, ax=ax[0]) \n",
    "    ax.set_xlabel(xlabel='', fontsize=20,labelpad=15);\n",
    "    ax.set_ylabel('Deep Drainage (inches)', fontsize=14, labelpad=14); # ax.set_ylim(-20,300)\n",
    "    ax.tick_params(labelsize=15); \n",
    "    # plot nitrate concentration\n",
    "    ax1 = sns.pointplot(x=\"DAP\", y=\"N_lbs_per_acre\", hue=\"treatment\", hue_order=[treatment_one, treatment_two],\n",
    "                        data=tidy_data, palette=['black','grey'],\n",
    "                       errwidth=1, markers=[\"o\", \"^\"], capsize=0.25, linestyles=[\"-\", \"--\"], linewidth=5)\n",
    "    ax1.set_xlabel(xlabel='Days After Transplant (DAT)', fontsize=16,labelpad=15);\n",
    "    ax1.set_ylabel('Leachate (lbs N/acre)', fontsize=14, labelpad=14); # ax1.set_ylim(-20,300) \n",
    "    ax1.tick_params(labelsize=15); \n",
    "    sns.despine() # remove upper and righhand spines\n",
    "    return fig, ax"
   ]
  },
  {
   "cell_type": "code",
   "execution_count": 16,
   "metadata": {},
   "outputs": [
    {
     "data": {
      "text/plain": [
       "(<matplotlib.figure.Figure at 0x1fd3e5547b8>,\n",
       " <matplotlib.axes._subplots.AxesSubplot at 0x1fd3cf254a8>)"
      ]
     },
     "execution_count": 16,
     "metadata": {},
     "output_type": "execute_result"
    },
    {
     "data": {
      "image/png": "[encoded data removed]",
      "text/plain": [
       "<matplotlib.figure.Figure at 0x1fd3e5547b8>"
      ]
     },
     "metadata": {},
     "output_type": "display_data"
    }
   ],
   "source": [
    "# plot scaled data using the tidy scaled data and the two variables created eary for each treatment name\n",
    "explore_scaled_lysimeter_data(leachate_scaled, treatment_one=treatment_one, treatment_two=treatment_two)"
   ]
  },
  {
   "cell_type": "markdown",
   "metadata": {},
   "source": [
    "---"
   ]
  },
  {
   "cell_type": "markdown",
   "metadata": {},
   "source": [
    "## Section 07: Plot and compare Total Applied Water vs. Total Deep Drainage. "
   ]
  },
  {
   "cell_type": "markdown",
   "metadata": {},
   "source": [
    "### First we gotta do some prep for the leachate data"
   ]
  },
  {
   "cell_type": "code",
   "execution_count": 17,
   "metadata": {},
   "outputs": [
    {
     "data": {
      "text/html": [
       "<div>\n",
       "<style>\n",
       "    .dataframe thead tr:only-child th {\n",
       "        text-align: right;\n",
       "    }\n",
       "\n",
       "    .dataframe thead th {\n",
       "        text-align: left;\n",
       "    }\n",
       "\n",
       "    .dataframe tbody tr th {\n",
       "        vertical-align: top;\n",
       "    }\n",
       "</style>\n",
       "<table border=\"1\" class=\"dataframe\">\n",
       "  <thead>\n",
       "    <tr style=\"text-align: right;\">\n",
       "      <th></th>\n",
       "      <th>date</th>\n",
       "      <th>DAP</th>\n",
       "      <th>treatment</th>\n",
       "      <th>irrigation_type</th>\n",
       "      <th>irrigation_in</th>\n",
       "      <th>irrigation_mm</th>\n",
       "    </tr>\n",
       "  </thead>\n",
       "  <tbody>\n",
       "    <tr>\n",
       "      <th>0</th>\n",
       "      <td>2017-04-12</td>\n",
       "      <td>0</td>\n",
       "      <td>CropManage</td>\n",
       "      <td>sprinkler</td>\n",
       "      <td>1.20</td>\n",
       "      <td>30.480</td>\n",
       "    </tr>\n",
       "    <tr>\n",
       "      <th>1</th>\n",
       "      <td>2017-04-12</td>\n",
       "      <td>0</td>\n",
       "      <td>ET 130</td>\n",
       "      <td>sprinkler</td>\n",
       "      <td>1.20</td>\n",
       "      <td>30.480</td>\n",
       "    </tr>\n",
       "    <tr>\n",
       "      <th>3</th>\n",
       "      <td>2017-04-15</td>\n",
       "      <td>3</td>\n",
       "      <td>CropManage</td>\n",
       "      <td>sprinkler</td>\n",
       "      <td>0.33</td>\n",
       "      <td>8.382</td>\n",
       "    </tr>\n",
       "    <tr>\n",
       "      <th>4</th>\n",
       "      <td>2017-04-15</td>\n",
       "      <td>3</td>\n",
       "      <td>ET 130</td>\n",
       "      <td>sprinkler</td>\n",
       "      <td>0.33</td>\n",
       "      <td>8.382</td>\n",
       "    </tr>\n",
       "    <tr>\n",
       "      <th>6</th>\n",
       "      <td>2017-05-15</td>\n",
       "      <td>33</td>\n",
       "      <td>CropManage</td>\n",
       "      <td>drip</td>\n",
       "      <td>1.10</td>\n",
       "      <td>27.940</td>\n",
       "    </tr>\n",
       "  </tbody>\n",
       "</table>\n",
       "</div>"
      ],
      "text/plain": [
       "        date  DAP   treatment irrigation_type  irrigation_in  irrigation_mm\n",
       "0 2017-04-12    0  CropManage       sprinkler           1.20         30.480\n",
       "1 2017-04-12    0      ET 130       sprinkler           1.20         30.480\n",
       "3 2017-04-15    3  CropManage       sprinkler           0.33          8.382\n",
       "4 2017-04-15    3      ET 130       sprinkler           0.33          8.382\n",
       "6 2017-05-15   33  CropManage            drip           1.10         27.940"
      ]
     },
     "execution_count": 17,
     "metadata": {},
     "output_type": "execute_result"
    }
   ],
   "source": [
    "# Filter out Grower treatment\n",
    "applied_h2o_without_grower = applied_h2o.loc[applied_h2o['treatment'] != 'Grower']\n",
    "applied_h2o_without_grower.head()"
   ]
  },
  {
   "cell_type": "code",
   "execution_count": 18,
   "metadata": {},
   "outputs": [
    {
     "data": {
      "text/html": [
       "<div>\n",
       "<style>\n",
       "    .dataframe thead tr:only-child th {\n",
       "        text-align: right;\n",
       "    }\n",
       "\n",
       "    .dataframe thead th {\n",
       "        text-align: left;\n",
       "    }\n",
       "\n",
       "    .dataframe tbody tr th {\n",
       "        vertical-align: top;\n",
       "    }\n",
       "</style>\n",
       "<table border=\"1\" class=\"dataframe\">\n",
       "  <thead>\n",
       "    <tr style=\"text-align: right;\">\n",
       "      <th></th>\n",
       "      <th>DAP</th>\n",
       "      <th>irrigation_in</th>\n",
       "      <th>irrigation_mm</th>\n",
       "    </tr>\n",
       "    <tr>\n",
       "      <th>treatment</th>\n",
       "      <th></th>\n",
       "      <th></th>\n",
       "      <th></th>\n",
       "    </tr>\n",
       "  </thead>\n",
       "  <tbody>\n",
       "    <tr>\n",
       "      <th>CropManage</th>\n",
       "      <td>506.0</td>\n",
       "      <td>7.90</td>\n",
       "      <td>200.660</td>\n",
       "    </tr>\n",
       "    <tr>\n",
       "      <th>ET 130</th>\n",
       "      <td>472.0</td>\n",
       "      <td>9.36</td>\n",
       "      <td>237.744</td>\n",
       "    </tr>\n",
       "    <tr>\n",
       "      <th>Grower</th>\n",
       "      <td>NaN</td>\n",
       "      <td>NaN</td>\n",
       "      <td>NaN</td>\n",
       "    </tr>\n",
       "  </tbody>\n",
       "</table>\n",
       "</div>"
      ],
      "text/plain": [
       "              DAP  irrigation_in  irrigation_mm\n",
       "treatment                                      \n",
       "CropManage  506.0           7.90        200.660\n",
       "ET 130      472.0           9.36        237.744\n",
       "Grower        NaN            NaN            NaN"
      ]
     },
     "execution_count": 18,
     "metadata": {},
     "output_type": "execute_result"
    }
   ],
   "source": [
    "# create summary of total applied water and save each treatments totals in variables\n",
    "total_applied_water = applied_h2o_without_grower.groupby('treatment').sum()\n",
    "total_applied_water"
   ]
  },
  {
   "cell_type": "code",
   "execution_count": 19,
   "metadata": {},
   "outputs": [
    {
     "name": "stdout",
     "output_type": "stream",
     "text": [
      "crop manage:  7.9\n",
      "et130:  9.36\n"
     ]
    }
   ],
   "source": [
    "# save totals to variables for total applied water\n",
    "cm_total_water = total_applied_water.loc[0,'irrigation_in']\n",
    "print('crop manage: ', cm_total_water)\n",
    "et130_total_water = total_applied_water.loc[1,'irrigation_in']\n",
    "print('et130: ', et130_total_water)"
   ]
  },
  {
   "cell_type": "markdown",
   "metadata": {},
   "source": [
    "### Now lets do some prep for the irrigation data "
   ]
  },
  {
   "cell_type": "code",
   "execution_count": 20,
   "metadata": {},
   "outputs": [
    {
     "data": {
      "text/html": [
       "<div>\n",
       "<style>\n",
       "    .dataframe thead tr:only-child th {\n",
       "        text-align: right;\n",
       "    }\n",
       "\n",
       "    .dataframe thead th {\n",
       "        text-align: left;\n",
       "    }\n",
       "\n",
       "    .dataframe tbody tr th {\n",
       "        vertical-align: top;\n",
       "    }\n",
       "</style>\n",
       "<table border=\"1\" class=\"dataframe\">\n",
       "  <thead>\n",
       "    <tr style=\"text-align: right;\">\n",
       "      <th></th>\n",
       "      <th>treatment</th>\n",
       "      <th>replicate</th>\n",
       "      <th>event</th>\n",
       "      <th>DAP</th>\n",
       "      <th>drainage_cm3</th>\n",
       "      <th>N_mg_per_L</th>\n",
       "      <th>drainage_in</th>\n",
       "      <th>drainage_L</th>\n",
       "      <th>N_mg</th>\n",
       "      <th>N_lbs</th>\n",
       "      <th>N_lbs_per_cm2</th>\n",
       "      <th>N_lbs_per_acre</th>\n",
       "    </tr>\n",
       "  </thead>\n",
       "  <tbody>\n",
       "    <tr>\n",
       "      <th>0</th>\n",
       "      <td>CropManage</td>\n",
       "      <td>Rep A</td>\n",
       "      <td>55</td>\n",
       "      <td>476</td>\n",
       "      <td>403</td>\n",
       "      <td>80.40</td>\n",
       "      <td>0.23</td>\n",
       "      <td>0.40</td>\n",
       "      <td>32.40</td>\n",
       "      <td>0.0</td>\n",
       "      <td>0.0</td>\n",
       "      <td>4.28</td>\n",
       "    </tr>\n",
       "    <tr>\n",
       "      <th>1</th>\n",
       "      <td>CropManage</td>\n",
       "      <td>Rep B</td>\n",
       "      <td>55</td>\n",
       "      <td>476</td>\n",
       "      <td>2155</td>\n",
       "      <td>793.54</td>\n",
       "      <td>1.26</td>\n",
       "      <td>2.15</td>\n",
       "      <td>326.85</td>\n",
       "      <td>0.0</td>\n",
       "      <td>0.0</td>\n",
       "      <td>43.16</td>\n",
       "    </tr>\n",
       "    <tr>\n",
       "      <th>2</th>\n",
       "      <td>CropManage</td>\n",
       "      <td>Rep C</td>\n",
       "      <td>55</td>\n",
       "      <td>476</td>\n",
       "      <td>0</td>\n",
       "      <td>0.00</td>\n",
       "      <td>0.00</td>\n",
       "      <td>0.00</td>\n",
       "      <td>0.00</td>\n",
       "      <td>0.0</td>\n",
       "      <td>0.0</td>\n",
       "      <td>0.00</td>\n",
       "    </tr>\n",
       "    <tr>\n",
       "      <th>3</th>\n",
       "      <td>CropManage</td>\n",
       "      <td>Rep D</td>\n",
       "      <td>55</td>\n",
       "      <td>476</td>\n",
       "      <td>0</td>\n",
       "      <td>0.00</td>\n",
       "      <td>0.00</td>\n",
       "      <td>0.00</td>\n",
       "      <td>0.00</td>\n",
       "      <td>0.0</td>\n",
       "      <td>0.0</td>\n",
       "      <td>0.00</td>\n",
       "    </tr>\n",
       "    <tr>\n",
       "      <th>4</th>\n",
       "      <td>ET 130</td>\n",
       "      <td>Rep A</td>\n",
       "      <td>55</td>\n",
       "      <td>476</td>\n",
       "      <td>2038</td>\n",
       "      <td>398.19</td>\n",
       "      <td>1.19</td>\n",
       "      <td>2.04</td>\n",
       "      <td>141.77</td>\n",
       "      <td>0.0</td>\n",
       "      <td>0.0</td>\n",
       "      <td>18.72</td>\n",
       "    </tr>\n",
       "    <tr>\n",
       "      <th>5</th>\n",
       "      <td>ET 130</td>\n",
       "      <td>Rep B</td>\n",
       "      <td>55</td>\n",
       "      <td>476</td>\n",
       "      <td>6985</td>\n",
       "      <td>723.15</td>\n",
       "      <td>4.07</td>\n",
       "      <td>6.98</td>\n",
       "      <td>670.62</td>\n",
       "      <td>0.0</td>\n",
       "      <td>0.0</td>\n",
       "      <td>88.56</td>\n",
       "    </tr>\n",
       "    <tr>\n",
       "      <th>6</th>\n",
       "      <td>ET 130</td>\n",
       "      <td>Rep C</td>\n",
       "      <td>55</td>\n",
       "      <td>476</td>\n",
       "      <td>2545</td>\n",
       "      <td>1210.70</td>\n",
       "      <td>1.48</td>\n",
       "      <td>2.54</td>\n",
       "      <td>274.95</td>\n",
       "      <td>0.0</td>\n",
       "      <td>0.0</td>\n",
       "      <td>36.31</td>\n",
       "    </tr>\n",
       "    <tr>\n",
       "      <th>7</th>\n",
       "      <td>ET 130</td>\n",
       "      <td>Rep D</td>\n",
       "      <td>55</td>\n",
       "      <td>476</td>\n",
       "      <td>3832</td>\n",
       "      <td>497.50</td>\n",
       "      <td>2.23</td>\n",
       "      <td>3.83</td>\n",
       "      <td>199.78</td>\n",
       "      <td>0.0</td>\n",
       "      <td>0.0</td>\n",
       "      <td>26.38</td>\n",
       "    </tr>\n",
       "  </tbody>\n",
       "</table>\n",
       "</div>"
      ],
      "text/plain": [
       "    treatment replicate  event  DAP  drainage_cm3  N_mg_per_L  drainage_in  \\\n",
       "0  CropManage     Rep A     55  476           403       80.40         0.23   \n",
       "1  CropManage     Rep B     55  476          2155      793.54         1.26   \n",
       "2  CropManage     Rep C     55  476             0        0.00         0.00   \n",
       "3  CropManage     Rep D     55  476             0        0.00         0.00   \n",
       "4      ET 130     Rep A     55  476          2038      398.19         1.19   \n",
       "5      ET 130     Rep B     55  476          6985      723.15         4.07   \n",
       "6      ET 130     Rep C     55  476          2545     1210.70         1.48   \n",
       "7      ET 130     Rep D     55  476          3832      497.50         2.23   \n",
       "\n",
       "   drainage_L    N_mg  N_lbs  N_lbs_per_cm2  N_lbs_per_acre  \n",
       "0        0.40   32.40    0.0            0.0            4.28  \n",
       "1        2.15  326.85    0.0            0.0           43.16  \n",
       "2        0.00    0.00    0.0            0.0            0.00  \n",
       "3        0.00    0.00    0.0            0.0            0.00  \n",
       "4        2.04  141.77    0.0            0.0           18.72  \n",
       "5        6.98  670.62    0.0            0.0           88.56  \n",
       "6        2.54  274.95    0.0            0.0           36.31  \n",
       "7        3.83  199.78    0.0            0.0           26.38  "
      ]
     },
     "execution_count": 20,
     "metadata": {},
     "output_type": "execute_result"
    }
   ],
   "source": [
    "# group lysimeter data by Treatment, then replicate and then sum to get total drainage per lysimeter\n",
    "summed_leachate = leachate_scaled.groupby(['treatment','replicate']).sum()\n",
    "summed_leachate = summed_leachate.reset_index()\n",
    "summed_leachate.round(2)"
   ]
  },
  {
   "cell_type": "code",
   "execution_count": 21,
   "metadata": {},
   "outputs": [
    {
     "data": {
      "text/html": [
       "<div>\n",
       "<style>\n",
       "    .dataframe thead tr:only-child th {\n",
       "        text-align: right;\n",
       "    }\n",
       "\n",
       "    .dataframe thead th {\n",
       "        text-align: left;\n",
       "    }\n",
       "\n",
       "    .dataframe tbody tr th {\n",
       "        vertical-align: top;\n",
       "    }\n",
       "</style>\n",
       "<table border=\"1\" class=\"dataframe\">\n",
       "  <thead>\n",
       "    <tr style=\"text-align: right;\">\n",
       "      <th></th>\n",
       "      <th>treatment</th>\n",
       "      <th>event</th>\n",
       "      <th>DAP</th>\n",
       "      <th>drainage_cm3</th>\n",
       "      <th>N_mg_per_L</th>\n",
       "      <th>drainage_in</th>\n",
       "      <th>drainage_L</th>\n",
       "      <th>N_mg</th>\n",
       "      <th>N_lbs</th>\n",
       "      <th>N_lbs_per_cm2</th>\n",
       "      <th>N_lbs_per_acre</th>\n",
       "    </tr>\n",
       "  </thead>\n",
       "  <tbody>\n",
       "    <tr>\n",
       "      <th>0</th>\n",
       "      <td>CropManage</td>\n",
       "      <td>55.0</td>\n",
       "      <td>476.0</td>\n",
       "      <td>639.5</td>\n",
       "      <td>218.485774</td>\n",
       "      <td>0.372664</td>\n",
       "      <td>0.6395</td>\n",
       "      <td>89.813738</td>\n",
       "      <td>0.000198</td>\n",
       "      <td>2.930778e-07</td>\n",
       "      <td>11.860438</td>\n",
       "    </tr>\n",
       "    <tr>\n",
       "      <th>1</th>\n",
       "      <td>ET 130</td>\n",
       "      <td>55.0</td>\n",
       "      <td>476.0</td>\n",
       "      <td>3850.0</td>\n",
       "      <td>707.382497</td>\n",
       "      <td>2.243560</td>\n",
       "      <td>3.8500</td>\n",
       "      <td>321.780213</td>\n",
       "      <td>0.000709</td>\n",
       "      <td>1.050025e-06</td>\n",
       "      <td>42.492990</td>\n",
       "    </tr>\n",
       "  </tbody>\n",
       "</table>\n",
       "</div>"
      ],
      "text/plain": [
       "    treatment  event    DAP  drainage_cm3  N_mg_per_L  drainage_in  \\\n",
       "0  CropManage   55.0  476.0         639.5  218.485774     0.372664   \n",
       "1      ET 130   55.0  476.0        3850.0  707.382497     2.243560   \n",
       "\n",
       "   drainage_L        N_mg     N_lbs  N_lbs_per_cm2  N_lbs_per_acre  \n",
       "0      0.6395   89.813738  0.000198   2.930778e-07       11.860438  \n",
       "1      3.8500  321.780213  0.000709   1.050025e-06       42.492990  "
      ]
     },
     "execution_count": 21,
     "metadata": {},
     "output_type": "execute_result"
    }
   ],
   "source": [
    "# group lysimeter data by Treatment, then replicate and then sum\n",
    "avg_drainage = summed_leachate.groupby(['treatment']).mean()\n",
    "\n",
    "# view table summary and use to confirm results on figures below\n",
    "avg_drainage = avg_drainage.reset_index()\n",
    "avg_drainage"
   ]
  },
  {
   "cell_type": "code",
   "execution_count": 22,
   "metadata": {},
   "outputs": [
    {
     "name": "stdout",
     "output_type": "stream",
     "text": [
      "avg drainage for CM:  0.37\n",
      "avg drainage for et130:  2.24\n"
     ]
    }
   ],
   "source": [
    "# save average drainage to variables for adding text to plots\n",
    "cm_avg_drainage = avg_drainage.loc[0,'drainage_in']\n",
    "et130_avg_drainage = avg_drainage.loc[1,'drainage_in']\n",
    "print('avg drainage for CM: ', cm_avg_drainage.round(2))\n",
    "print('avg drainage for et130: ',et130_avg_drainage.round(2))"
   ]
  },
  {
   "cell_type": "code",
   "execution_count": 23,
   "metadata": {},
   "outputs": [
    {
     "name": "stdout",
     "output_type": "stream",
     "text": [
      "4.71726565603\n",
      "23.9696535969\n"
     ]
    }
   ],
   "source": [
    "# calculate percent drainage \n",
    "cm_percent_drainage = cm_avg_drainage / cm_total_water * 100\n",
    "print(cm_percent_drainage)\n",
    "\n",
    "et130_percent_drainage = et130_avg_drainage / et130_total_water * 100\n",
    "print(et130_percent_drainage)"
   ]
  },
  {
   "cell_type": "markdown",
   "metadata": {},
   "source": [
    "## Create function for plotting "
   ]
  },
  {
   "cell_type": "code",
   "execution_count": 24,
   "metadata": {},
   "outputs": [],
   "source": [
    "def plot_applied_irrigation_vs_drainage(h2o_data, summed_leachate_data):\n",
    "    fig, ax=plt.subplots(1,2,figsize=(13,7))\n",
    "    \n",
    "    # plot irrigation data for non-grower treatments (left plot)\n",
    "    ax1 = sns.barplot(data=h2o_data, x='treatment', y='irrigation_in', order=order_2, \n",
    "                     estimator=sum, palette=colors_2, ci=None,  ax=ax[0])\n",
    "    ax1.set_ylim(0,cm_total_water*3);  ax1.set_xlabel(xlabel=''); ax1.tick_params(labelsize=15); \n",
    "    ax1.set_ylabel('Total Applied Water (in)', fontsize=23, labelpad=12)\n",
    "    ax1.set_title('Total Irrigation',fontweight='bold', fontsize=22)\n",
    "    \n",
    "    # add text for the total applied water in inches\n",
    "    ax1.text(-.17, cm_total_water*1.05, str(cm_total_water.round(1)) + '\"', fontsize=22) # Crop Manage\n",
    "    ax1.text(.83, et130_total_water*1.05, str(et130_total_water.round(1)) + '\"', fontsize=22) # 130 ET\n",
    "    \n",
    "    # increase size of x axis labels\n",
    "    ax1.tick_params(axis='y', labelsize=18)\n",
    "    ax1.tick_params(axis='x', labelsize=17)\n",
    "    \n",
    "    # plot drainage data (right plot)\n",
    "    ax2 = sns.barplot(data=summed_leachate, x='treatment', y='drainage_in', \n",
    "                      ci=95, capsize=.1, order=order_2, palette=colors_2,  ax=ax[1])\n",
    "    ax2.set_ylim(0,cm_total_water*3);  ax2.set_xlabel(xlabel='')\n",
    "    ax2.set_ylabel('', fontsize=16, labelpad=12)\n",
    "    \n",
    "    # increase size of labels x and y labels\n",
    "    ax2.tick_params(axis='y', labelsize=18)\n",
    "    ax2.tick_params(axis='x', labelsize=17)\n",
    "    \n",
    "    # add text to plot to describe the comparisons between Total applied Irrigation and the Drainage\n",
    "    ax2.text(-0.2, cm_avg_drainage+6, str(cm_avg_drainage.round(1)) + '\" of' , fontsize=15, fontweight='bold') # Crop Manage\n",
    "    ax2.text(-0.3, cm_avg_drainage+5, 'Drainage' , fontsize=15, fontweight='bold') # Crop Manage\n",
    "    ax2.text(-0.4, cm_avg_drainage+3, '~ ' + str(cm_percent_drainage.round(1)) + '% of total' , \n",
    "             fontsize=15) # Crop Manage\n",
    "    ax2.text(-0.4, cm_avg_drainage+2, 'applied water' , fontsize=15) # Crop Manage\n",
    "    \n",
    "    ax2.text(.8, et130_avg_drainage+6, str(et130_avg_drainage.round(1)) + '\" of' , fontsize=15, fontweight='bold') # Crop Manage\n",
    "    ax2.text(0.7, et130_avg_drainage+5, 'Drainage' , fontsize=15, fontweight='bold') # Crop Manage\n",
    "    ax2.text(0.6, et130_avg_drainage+3, '~ ' + str(et130_percent_drainage.round(1)) + '% of total' , \n",
    "             fontsize=15) # Crop Manage\n",
    "    ax2.text(0.6, et130_avg_drainage+2, 'applied water' , fontsize=15) # Crop Manage\n",
    "    \n",
    "    ax2.set_ylabel('Total Deep Drainage (in)', fontsize=22, labelpad=12)\n",
    "    ax2.set_title('Deep Drainage',fontweight='bold', fontsize=22)\n",
    "    \n",
    "    wspace = .4  # the amount of width reserved for blank space between subplots,\n",
    "               # expressed as a fraction of the average axis width\n",
    "    \n",
    "    plt.subplots_adjust(left=None, bottom=None, right=None, top=None,\n",
    "                    wspace=wspace, hspace=None)\n",
    "\n",
    "    sns.despine() # remove spines    \n",
    "    \n",
    "    return fig, ax"
   ]
  },
  {
   "cell_type": "code",
   "execution_count": 25,
   "metadata": {},
   "outputs": [
    {
     "data": {
      "text/plain": [
       "(<matplotlib.figure.Figure at 0x1fd3ea9a828>,\n",
       " array([<matplotlib.axes._subplots.AxesSubplot object at 0x000001FD3EA89C18>,\n",
       "        <matplotlib.axes._subplots.AxesSubplot object at 0x000001FD3E8A59B0>], dtype=object))"
      ]
     },
     "execution_count": 25,
     "metadata": {},
     "output_type": "execute_result"
    },
    {
     "data": {
      "image/png": "[encoded data removed]",
      "text/plain": [
       "<matplotlib.figure.Figure at 0x1fd3ea9a828>"
      ]
     },
     "metadata": {},
     "output_type": "display_data"
    }
   ],
   "source": [
    "# use function to plot Total Irrigation vs. Deep Drainage\n",
    "plot_applied_irrigation_vs_drainage(applied_h2o_without_grower, leachate_scaled)"
   ]
  },
  {
   "cell_type": "markdown",
   "metadata": {},
   "source": [
    "---"
   ]
  },
  {
   "cell_type": "markdown",
   "metadata": {},
   "source": [
    "# Section 08: Plot and compare Total Applied Fertilizer vs. Total Leachate"
   ]
  },
  {
   "cell_type": "markdown",
   "metadata": {},
   "source": [
    "### First lets do look at some summaries of our data and save them into variables to use when plotting"
   ]
  },
  {
   "cell_type": "code",
   "execution_count": 26,
   "metadata": {},
   "outputs": [
    {
     "data": {
      "text/html": [
       "<div>\n",
       "<style>\n",
       "    .dataframe thead tr:only-child th {\n",
       "        text-align: right;\n",
       "    }\n",
       "\n",
       "    .dataframe thead th {\n",
       "        text-align: left;\n",
       "    }\n",
       "\n",
       "    .dataframe tbody tr th {\n",
       "        vertical-align: top;\n",
       "    }\n",
       "</style>\n",
       "<table border=\"1\" class=\"dataframe\">\n",
       "  <thead>\n",
       "    <tr style=\"text-align: right;\">\n",
       "      <th></th>\n",
       "      <th>date</th>\n",
       "      <th>treatment</th>\n",
       "      <th>application_type</th>\n",
       "      <th>fertilizer</th>\n",
       "      <th>N_lbs_per_acre</th>\n",
       "    </tr>\n",
       "  </thead>\n",
       "  <tbody>\n",
       "    <tr>\n",
       "      <th>0</th>\n",
       "      <td>2017-04-07</td>\n",
       "      <td>Grower</td>\n",
       "      <td>Bed Listing</td>\n",
       "      <td>2.5-12-30</td>\n",
       "      <td>10.0</td>\n",
       "    </tr>\n",
       "    <tr>\n",
       "      <th>1</th>\n",
       "      <td>2017-05-09</td>\n",
       "      <td>Grower</td>\n",
       "      <td>1st Sidedress</td>\n",
       "      <td>20-0-0</td>\n",
       "      <td>73.5</td>\n",
       "    </tr>\n",
       "    <tr>\n",
       "      <th>2</th>\n",
       "      <td>2017-05-24</td>\n",
       "      <td>Grower</td>\n",
       "      <td>1st Drip Fertigation</td>\n",
       "      <td>20-0-0</td>\n",
       "      <td>60.0</td>\n",
       "    </tr>\n",
       "    <tr>\n",
       "      <th>3</th>\n",
       "      <td>2017-06-08</td>\n",
       "      <td>Grower</td>\n",
       "      <td>2nd Drip Fertigation</td>\n",
       "      <td>CAN-17</td>\n",
       "      <td>42.8</td>\n",
       "    </tr>\n",
       "    <tr>\n",
       "      <th>4</th>\n",
       "      <td>2017-04-07</td>\n",
       "      <td>CropManage</td>\n",
       "      <td>Bed Listing</td>\n",
       "      <td>2.5-12-30</td>\n",
       "      <td>10.0</td>\n",
       "    </tr>\n",
       "    <tr>\n",
       "      <th>5</th>\n",
       "      <td>2017-05-09</td>\n",
       "      <td>CropManage</td>\n",
       "      <td>1st Sidedress</td>\n",
       "      <td>20-0-0</td>\n",
       "      <td>73.5</td>\n",
       "    </tr>\n",
       "    <tr>\n",
       "      <th>6</th>\n",
       "      <td>2017-05-24</td>\n",
       "      <td>CropManage</td>\n",
       "      <td>1st Drip Fertigation</td>\n",
       "      <td>20-0-0</td>\n",
       "      <td>39.9</td>\n",
       "    </tr>\n",
       "    <tr>\n",
       "      <th>7</th>\n",
       "      <td>2017-05-31</td>\n",
       "      <td>CropManage</td>\n",
       "      <td>2nd Drip Fertigation</td>\n",
       "      <td>20-0-0</td>\n",
       "      <td>30.0</td>\n",
       "    </tr>\n",
       "    <tr>\n",
       "      <th>8</th>\n",
       "      <td>2017-04-07</td>\n",
       "      <td>ET 130</td>\n",
       "      <td>Bed Listing</td>\n",
       "      <td>2.5-12-30</td>\n",
       "      <td>10.0</td>\n",
       "    </tr>\n",
       "    <tr>\n",
       "      <th>9</th>\n",
       "      <td>2017-05-09</td>\n",
       "      <td>ET 130</td>\n",
       "      <td>1st Sidedress</td>\n",
       "      <td>20-0-0</td>\n",
       "      <td>73.5</td>\n",
       "    </tr>\n",
       "    <tr>\n",
       "      <th>10</th>\n",
       "      <td>2017-05-24</td>\n",
       "      <td>ET 130</td>\n",
       "      <td>1st Drip Fertigation</td>\n",
       "      <td>20-0-0</td>\n",
       "      <td>60.1</td>\n",
       "    </tr>\n",
       "    <tr>\n",
       "      <th>11</th>\n",
       "      <td>2017-05-31</td>\n",
       "      <td>ET 130</td>\n",
       "      <td>2nd Drip Fertigation</td>\n",
       "      <td>20-0-0</td>\n",
       "      <td>45.1</td>\n",
       "    </tr>\n",
       "  </tbody>\n",
       "</table>\n",
       "</div>"
      ],
      "text/plain": [
       "         date   treatment      application_type fertilizer  N_lbs_per_acre\n",
       "0  2017-04-07      Grower           Bed Listing  2.5-12-30            10.0\n",
       "1  2017-05-09      Grower         1st Sidedress     20-0-0            73.5\n",
       "2  2017-05-24      Grower  1st Drip Fertigation     20-0-0            60.0\n",
       "3  2017-06-08      Grower  2nd Drip Fertigation     CAN-17            42.8\n",
       "4  2017-04-07  CropManage           Bed Listing  2.5-12-30            10.0\n",
       "5  2017-05-09  CropManage         1st Sidedress     20-0-0            73.5\n",
       "6  2017-05-24  CropManage  1st Drip Fertigation     20-0-0            39.9\n",
       "7  2017-05-31  CropManage  2nd Drip Fertigation     20-0-0            30.0\n",
       "8  2017-04-07      ET 130           Bed Listing  2.5-12-30            10.0\n",
       "9  2017-05-09      ET 130         1st Sidedress     20-0-0            73.5\n",
       "10 2017-05-24      ET 130  1st Drip Fertigation     20-0-0            60.1\n",
       "11 2017-05-31      ET 130  2nd Drip Fertigation     20-0-0            45.1"
      ]
     },
     "execution_count": 26,
     "metadata": {},
     "output_type": "execute_result"
    }
   ],
   "source": [
    "applied_N"
   ]
  },
  {
   "cell_type": "code",
   "execution_count": 27,
   "metadata": {},
   "outputs": [
    {
     "name": "stdout",
     "output_type": "stream",
     "text": [
      "cm total applied N:  153.4\n",
      "et130 total applied N:  188.7\n"
     ]
    }
   ],
   "source": [
    "# sum applied fertlizer to see total applied N for each treatment\n",
    "applied_N_summed = fertilizer.groupby('treatment').sum()\n",
    "\n",
    "# save total applied N for each treatment in variables \n",
    "cm_applied_N = applied_N_summed.loc['CropManage','N_lbs_per_acre']\n",
    "print('cm total applied N: ', cm_applied_N)\n",
    "\n",
    "et130_applied_N = applied_N_summed.loc['ET 130','N_lbs_per_acre']\n",
    "print('et130 total applied N: ', et130_applied_N)"
   ]
  },
  {
   "cell_type": "code",
   "execution_count": 28,
   "metadata": {},
   "outputs": [
    {
     "data": {
      "text/html": [
       "<div>\n",
       "<style>\n",
       "    .dataframe thead tr:only-child th {\n",
       "        text-align: right;\n",
       "    }\n",
       "\n",
       "    .dataframe thead th {\n",
       "        text-align: left;\n",
       "    }\n",
       "\n",
       "    .dataframe tbody tr th {\n",
       "        vertical-align: top;\n",
       "    }\n",
       "</style>\n",
       "<table border=\"1\" class=\"dataframe\">\n",
       "  <thead>\n",
       "    <tr style=\"text-align: right;\">\n",
       "      <th></th>\n",
       "      <th>event</th>\n",
       "      <th>DAP</th>\n",
       "      <th>drainage_cm3</th>\n",
       "      <th>N_mg_per_L</th>\n",
       "      <th>drainage_in</th>\n",
       "      <th>drainage_L</th>\n",
       "      <th>N_mg</th>\n",
       "      <th>N_lbs</th>\n",
       "      <th>N_lbs_per_cm2</th>\n",
       "      <th>N_lbs_per_acre</th>\n",
       "    </tr>\n",
       "    <tr>\n",
       "      <th>treatment</th>\n",
       "      <th></th>\n",
       "      <th></th>\n",
       "      <th></th>\n",
       "      <th></th>\n",
       "      <th></th>\n",
       "      <th></th>\n",
       "      <th></th>\n",
       "      <th></th>\n",
       "      <th></th>\n",
       "      <th></th>\n",
       "    </tr>\n",
       "  </thead>\n",
       "  <tbody>\n",
       "    <tr>\n",
       "      <th>CropManage</th>\n",
       "      <td>55.0</td>\n",
       "      <td>476.0</td>\n",
       "      <td>639.5</td>\n",
       "      <td>218.485774</td>\n",
       "      <td>0.372664</td>\n",
       "      <td>0.6395</td>\n",
       "      <td>89.813738</td>\n",
       "      <td>0.000198</td>\n",
       "      <td>2.930778e-07</td>\n",
       "      <td>11.860438</td>\n",
       "    </tr>\n",
       "    <tr>\n",
       "      <th>ET 130</th>\n",
       "      <td>55.0</td>\n",
       "      <td>476.0</td>\n",
       "      <td>3850.0</td>\n",
       "      <td>707.382497</td>\n",
       "      <td>2.243560</td>\n",
       "      <td>3.8500</td>\n",
       "      <td>321.780213</td>\n",
       "      <td>0.000709</td>\n",
       "      <td>1.050025e-06</td>\n",
       "      <td>42.492990</td>\n",
       "    </tr>\n",
       "  </tbody>\n",
       "</table>\n",
       "</div>"
      ],
      "text/plain": [
       "            event    DAP  drainage_cm3  N_mg_per_L  drainage_in  drainage_L  \\\n",
       "treatment                                                                     \n",
       "CropManage   55.0  476.0         639.5  218.485774     0.372664      0.6395   \n",
       "ET 130       55.0  476.0        3850.0  707.382497     2.243560      3.8500   \n",
       "\n",
       "                  N_mg     N_lbs  N_lbs_per_cm2  N_lbs_per_acre  \n",
       "treatment                                                        \n",
       "CropManage   89.813738  0.000198   2.930778e-07       11.860438  \n",
       "ET 130      321.780213  0.000709   1.050025e-06       42.492990  "
      ]
     },
     "execution_count": 28,
     "metadata": {},
     "output_type": "execute_result"
    }
   ],
   "source": [
    "# groupby treatment and take the mean leachate\n",
    "avg_leached_N = summed_leachate.groupby(['treatment']).mean()\n",
    "\n",
    "# view dataframe with summaries for each treatment\n",
    "avg_leached_N"
   ]
  },
  {
   "cell_type": "code",
   "execution_count": 29,
   "metadata": {},
   "outputs": [
    {
     "name": "stdout",
     "output_type": "stream",
     "text": [
      "avg leached N for CM:  11.8604380123\n",
      "avg leached N for et130:  42.4929901613\n"
     ]
    }
   ],
   "source": [
    "# average leached taking from summary table above\n",
    "cm_avg_leached = avg_leached_N.loc['CropManage','N_lbs_per_acre']\n",
    "et130_avg_leached = avg_leached_N.loc['ET 130','N_lbs_per_acre']\n",
    "print('avg leached N for CM: ', cm_avg_leached)\n",
    "print('avg leached N for et130: ',et130_avg_leached)"
   ]
  },
  {
   "cell_type": "code",
   "execution_count": 30,
   "metadata": {},
   "outputs": [
    {
     "name": "stdout",
     "output_type": "stream",
     "text": [
      "CM:  7.73 % leached\n",
      "et130:  22.52 % leached\n"
     ]
    }
   ],
   "source": [
    "# calculate percent leached from total applied\n",
    "cm_percent_leached = ( cm_avg_leached / cm_applied_N ) * 100\n",
    "print('CM: ', cm_percent_leached.round(2), '% leached')\n",
    "\n",
    "et130_percent_leached = ( et130_avg_leached / et130_applied_N ) * 100\n",
    "print('et130: ', et130_percent_leached.round(2), '% leached')"
   ]
  },
  {
   "cell_type": "code",
   "execution_count": null,
   "metadata": {
    "collapsed": true
   },
   "outputs": [],
   "source": []
  },
  {
   "cell_type": "code",
   "execution_count": 31,
   "metadata": {
    "collapsed": true
   },
   "outputs": [],
   "source": [
    "def plot_applied_N_vs_leached_N(fertilizer_data, summed_leachate_data):\n",
    "    fig, ax=plt.subplots(1,2,figsize=(13,7))\n",
    "    \n",
    "    # plot total applied N for each treatment\n",
    "    ax1 = sns.barplot(data=fertilizer_data, x='treatment', y='N_lbs_per_acre', order=order_2, \n",
    "                      estimator=sum, palette=colors_2, ci=None,  ax=ax[0])\n",
    "    \n",
    "    ax1.set_ylim(0,300);  ax1.set_xlabel(xlabel='');\n",
    "    ax1.set_ylabel('Total Applied N (lbs/acre)', fontsize=20, labelpad=12)\n",
    "    ax1.set_title('Total Applied N',fontweight='bold', fontsize=22)\n",
    "    \n",
    "    # add text for the total applied water in inches (CHANGE THIS TEXT)\n",
    "    ax1.text(-.17, cm_applied_N*1.05, str(cm_applied_N.round(1)), fontsize=22) # Crop Manage\n",
    "    ax1.text(.83, et130_applied_N*1.05, str(et130_applied_N.round(1)), fontsize=22) # 130 ET\n",
    "    \n",
    "    ax1.tick_params(axis='y', labelsize=18)\n",
    "    ax1.tick_params(axis='x', labelsize=17)\n",
    "    \n",
    "    # plot leached nitrogen data (right side)\n",
    "    ax2 = sns.barplot(data=summed_leachate_data, x='treatment', y='N_lbs_per_acre', order=order_2, \n",
    "                      palette=colors_2, ci=95, capsize=.1)\n",
    "    ax2.set_ylim(0,300);  ax2.set_xlabel(xlabel='');\n",
    "    ax2.set_ylabel('Leached N (lbs/acre)', fontsize=20, labelpad=12)\n",
    "    ax2.set_title('Leached Nitrogen',fontweight='bold', fontsize=22)\n",
    "    ax2.tick_params(axis='y', labelsize=18)\n",
    "    ax2.tick_params(axis='x', labelsize=17)\n",
    "    \n",
    "    # add text for the comparing total applied to total leached\n",
    "    ax2.text(-0.28, cm_avg_leached+85, str(cm_avg_leached.round(1)) + ' lbs. of' , fontsize=15, fontweight='bold') # Crop Manage\n",
    "    ax2.text(-0.3, cm_avg_leached+70, 'N leached' , fontsize=15, fontweight='bold') # Crop Manage\n",
    "    ax2.text(-0.4, cm_avg_leached+45, str(cm_percent_leached.round(1)) + '% of total' , \n",
    "             fontsize=15) # Crop Manage\n",
    "    ax2.text(-0.4, cm_avg_leached+30, 'applied N' , fontsize=15) # Crop Manage\n",
    "\n",
    "    ax2.text(0.7, et130_avg_leached+95, str(et130_avg_leached.round(1)) + ' lbs. of' , fontsize=15, fontweight='bold') # Crop Manage\n",
    "    ax2.text(0.7, et130_avg_leached+80, 'N leached' , fontsize=15, fontweight='bold') # Crop Manage\n",
    "    ax2.text(0.6, et130_avg_leached+55, str(et130_percent_leached.round(1)) + '% of total' , \n",
    "             fontsize=15) # Crop Manage\n",
    "    ax2.text(0.6, et130_avg_leached+40, 'applied N' , fontsize=15) # Crop Manage\n",
    "\n",
    "\n",
    "    wspace = .4  # the amount of width reserved for blank space between subplots,\n",
    "               # expressed as a fraction of the average axis width\n",
    "    \n",
    "    plt.subplots_adjust(left=None, bottom=None, right=None, top=None,\n",
    "                    wspace=wspace, hspace=None)\n",
    "\n",
    "    sns.despine() # remove spines    \n",
    "    \n",
    "    return fig, ax"
   ]
  },
  {
   "cell_type": "code",
   "execution_count": 32,
   "metadata": {},
   "outputs": [
    {
     "data": {
      "text/plain": [
       "(<matplotlib.figure.Figure at 0x1fd3e965ac8>,\n",
       " array([<matplotlib.axes._subplots.AxesSubplot object at 0x000001FD3EAC1EB8>,\n",
       "        <matplotlib.axes._subplots.AxesSubplot object at 0x000001FD3E9F7DD8>], dtype=object))"
      ]
     },
     "execution_count": 32,
     "metadata": {},
     "output_type": "execute_result"
    },
    {
     "data": {
      "image/png": "[encoded data removed]",
      "text/plain": [
       "<matplotlib.figure.Figure at 0x1fd3e965ac8>"
      ]
     },
     "metadata": {},
     "output_type": "display_data"
    }
   ],
   "source": [
    "# use function to plot Total Applied N vs. Average Leached N\n",
    "plot_applied_N_vs_leached_N(applied_N, summed_leachate)"
   ]
  }
 ],
 "metadata": {
  "kernelspec": {
   "display_name": "Python 3",
   "language": "python",
   "name": "python3"
  },
  "language_info": {
   "codemirror_mode": {
    "name": "ipython",
    "version": 3
   },
   "file_extension": ".py",
   "mimetype": "text/x-python",
   "name": "python",
   "nbconvert_exporter": "python",
   "pygments_lexer": "ipython3",
   "version": "3.6.1"
  }
 },
 "nbformat": 4,
 "nbformat_minor": 2
}
