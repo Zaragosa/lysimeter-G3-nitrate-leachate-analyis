{
 "cells": [
  {
   "cell_type": "markdown",
   "metadata": {},
   "source": [
    "**Next steps for wrapping up notebook:**\n",
    "1. Complete sections 6-8.\n",
    "2. Go through each section and put line of code for important outputs: final figures and summary tables."
   ]
  },
  {
   "cell_type": "markdown",
   "metadata": {},
   "source": [
    "# Nitrate Leachate and Deep Drainage Analysis (randomized block design)\n",
    "\n",
    "**Note:** The data used here is an example and not necessarily based on real-world data. This is more of a guide for our internal NASA ARC CREST group, along with partners, students, and collaborators. The example here represents a study that would be conducted in a  large-scale commercial agricultural setting."
   ]
  },
  {
   "cell_type": "markdown",
   "metadata": {},
   "source": [
    "**Purpose of Notebook:** Document a general workflow that can be used as a starting place when analyzing deep drainage/leachate from field studies using G3 lysimeters to collect drainage/leachate data, flow meters to collect total applied water data, and CropManage to collect total applied fertilizer. \n",
    "\n",
    "[Link to G3 Drain Gauge Manual](http://library.metergroup.com/Manuals/13677_G3%20Drain%20Gauge_Web.pdf)"
   ]
  },
  {
   "cell_type": "markdown",
   "metadata": {},
   "source": [
    "\n",
    "\n",
    "**Data Needed for Analysis:** The following 3 datasets in the Tidy Format are required (see example data on Github)\n",
    "\n",
    "[Link to Repository on Jason Dexter's GitHub that includes example datasets](http://vita.had.co.nz/papers/tidy-data.html)\n",
    "\n",
    "1. Fertilizer Application: **tidy-fertilizer-data**\n",
    "2. Drainage and Leachate: **tidy-lysimeter-data**\n",
    "3. Irrigation Application: **tidy-irrigation-data**\n",
    "\n",
    "**Note:** It is very important that you setup your tables the same way as the tidy-data examples (long-table format, not wide-table).\n",
    "\n",
    "[Link to Tidy Data explanation (Hadley Wickham)](http://vita.had.co.nz/papers/tidy-data.html)"
   ]
  },
  {
   "cell_type": "markdown",
   "metadata": {},
   "source": [
    "# Sections included in this Jupyter Notebook\n",
    "1. Creating variables specific to study\n",
    "2. Importing libraries and setting parameters for plotting/visualizations\n",
    "3. Importing and preparing datasets\n",
    "4. Exploratory Data Analysis (raw leachate/drainage data)\n",
    "5. Perform calculations and scaling on lysimeter data to calculate final metrics.\n",
    "6. Visualize and plot deep drainage and leachate over time.\n",
    "7. Incorporate irrigation data to visualize and compare Total Applied Water vs. Total Deep Drainage.\n",
    "8. Incorporate fertilizer data to visualize and compare Total Applied Fertilizer vs. Total Leachate."
   ]
  },
  {
   "cell_type": "markdown",
   "metadata": {},
   "source": [
    "---"
   ]
  },
  {
   "cell_type": "markdown",
   "metadata": {},
   "source": [
    "## Section 01: Creating variables specific to study (set specific to your needs)"
   ]
  },
  {
   "cell_type": "code",
   "execution_count": 1,
   "metadata": {
    "collapsed": true
   },
   "outputs": [],
   "source": [
    "# Important variables used later in analysis (update with specific values pertaining to your study)\n",
    "\n",
    "# Treatment names as they are in the tidy-datasets (for treatment comparisons)\n",
    "treatment_one = 'ET 130'\n",
    "treatment_two = 'CropManage'\n",
    "\n",
    "# Area of the divergence control tube (aoi_cm2) tube from the G3 lysimeter (i.e., Area of Influence)\n",
    "aoi_cm2 = 506.7  # CHANGE IF YOU HAVE DETERMINED AN ALTERNATIVE VALUE FOR YOUR AOI\n",
    "\n",
    "# Bed dimensions for crop studied (used for scaling results by assuming zero leaching in furrows)\n",
    "'''If you want to try the analysis without scaling, then replace both values below with the number 1'''\n",
    "width_of_bed = 60 # inches\n",
    "width_of_bed_plus_furrows = 80 #inches\n",
    "\n",
    "# Path to directory containing tidy-datasets (your jupyter notebook should be in the same place)\n",
    "path = r'C:\\Users\\jdext\\Desktop\\lysimter-G3-nitrate-leachate-analysis'"
   ]
  },
  {
   "cell_type": "markdown",
   "metadata": {},
   "source": [
    "## Section 02: Importing libraries and setting parameters for plotting/visualizations"
   ]
  },
  {
   "cell_type": "code",
   "execution_count": 2,
   "metadata": {
    "collapsed": true
   },
   "outputs": [],
   "source": [
    "# Importing the libraries\n",
    "import os\n",
    "import pandas as pd\n",
    "import numpy as np\n",
    "import matplotlib.pyplot as plt\n",
    "import seaborn as sns\n",
    "\n",
    "# Magic command so that plots show in Notebook\n",
    "%matplotlib inline"
   ]
  },
  {
   "cell_type": "code",
   "execution_count": 3,
   "metadata": {
    "collapsed": true
   },
   "outputs": [],
   "source": [
    "# Setting style for all figures that will be made throughout notebook\n",
    "sns.set_context(\"paper\")\n",
    "sns.set(font='serif')\n",
    "sns.set_style(\"white\", {\"font.family\": \"serif\",\"font.serif\": [\"Times\", \"Palatino\", \"serif\"]})"
   ]
  },
  {
   "cell_type": "markdown",
   "metadata": {},
   "source": [
    "## Section 03: Importing and preparing datasets"
   ]
  },
  {
   "cell_type": "code",
   "execution_count": 4,
   "metadata": {},
   "outputs": [
    {
     "name": "stdout",
     "output_type": "stream",
     "text": [
      "C:\\Users\\jdext\\Desktop\\lysimter-G3-nitrate-leachate-analysis\n"
     ]
    }
   ],
   "source": [
    "# Change working directory using 'path' and print current directory for varification\n",
    "os.chdir(path); print(os.getcwd())\n",
    "\n",
    "# Importing the datasets\n",
    "fertilizer = pd.read_excel('_tidy-fertilizer-data.xlsx', header=0)\n",
    "irrigation = pd.read_excel('_tidy-irrigation-data.xlsx', header=0)\n",
    "lysimeter = pd.read_excel('_tidy-lysimeter-data.xlsx', header=0)"
   ]
  },
  {
   "cell_type": "markdown",
   "metadata": {},
   "source": [
    "#### Prepare tidy-ferlizer-data for analysis (applied Nitrogen data)"
   ]
  },
  {
   "cell_type": "code",
   "execution_count": 5,
   "metadata": {},
   "outputs": [
    {
     "data": {
      "text/html": [
       "<div>\n",
       "<style>\n",
       "    .dataframe thead tr:only-child th {\n",
       "        text-align: right;\n",
       "    }\n",
       "\n",
       "    .dataframe thead th {\n",
       "        text-align: left;\n",
       "    }\n",
       "\n",
       "    .dataframe tbody tr th {\n",
       "        vertical-align: top;\n",
       "    }\n",
       "</style>\n",
       "<table border=\"1\" class=\"dataframe\">\n",
       "  <thead>\n",
       "    <tr style=\"text-align: right;\">\n",
       "      <th></th>\n",
       "      <th>date</th>\n",
       "      <th>treatment</th>\n",
       "      <th>application_type</th>\n",
       "      <th>fertilizer</th>\n",
       "      <th>N_lbs_per_acre</th>\n",
       "    </tr>\n",
       "  </thead>\n",
       "  <tbody>\n",
       "    <tr>\n",
       "      <th>3</th>\n",
       "      <td>2017-06-08</td>\n",
       "      <td>Grower</td>\n",
       "      <td>2nd Drip Fertigation</td>\n",
       "      <td>CAN-17</td>\n",
       "      <td>42.8</td>\n",
       "    </tr>\n",
       "    <tr>\n",
       "      <th>11</th>\n",
       "      <td>2017-05-31</td>\n",
       "      <td>ET 130</td>\n",
       "      <td>2nd Drip Fertigation</td>\n",
       "      <td>20-0-0</td>\n",
       "      <td>45.1</td>\n",
       "    </tr>\n",
       "    <tr>\n",
       "      <th>2</th>\n",
       "      <td>2017-05-24</td>\n",
       "      <td>Grower</td>\n",
       "      <td>1st Drip Fertigation</td>\n",
       "      <td>20-0-0</td>\n",
       "      <td>60.0</td>\n",
       "    </tr>\n",
       "    <tr>\n",
       "      <th>9</th>\n",
       "      <td>2017-05-09</td>\n",
       "      <td>ET 130</td>\n",
       "      <td>1st Sidedress</td>\n",
       "      <td>20-0-0</td>\n",
       "      <td>73.5</td>\n",
       "    </tr>\n",
       "    <tr>\n",
       "      <th>4</th>\n",
       "      <td>2017-04-07</td>\n",
       "      <td>CropManage</td>\n",
       "      <td>Bed Listing</td>\n",
       "      <td>2.5-12-30</td>\n",
       "      <td>10.0</td>\n",
       "    </tr>\n",
       "  </tbody>\n",
       "</table>\n",
       "</div>"
      ],
      "text/plain": [
       "         date   treatment      application_type fertilizer  N_lbs_per_acre\n",
       "3  2017-06-08      Grower  2nd Drip Fertigation     CAN-17            42.8\n",
       "11 2017-05-31      ET 130  2nd Drip Fertigation     20-0-0            45.1\n",
       "2  2017-05-24      Grower  1st Drip Fertigation     20-0-0            60.0\n",
       "9  2017-05-09      ET 130         1st Sidedress     20-0-0            73.5\n",
       "4  2017-04-07  CropManage           Bed Listing  2.5-12-30            10.0"
      ]
     },
     "execution_count": 5,
     "metadata": {},
     "output_type": "execute_result"
    }
   ],
   "source": [
    "# Subset columns needed for analysis\n",
    "applied_N = fertilizer[['date','treatment','application_type','fertilizer','N_lbs_per_acre']].copy()\n",
    "\n",
    "# Set columns to appropriate data types\n",
    "applied_N.treatment = fertilizer.treatment.astype('category')\n",
    "\n",
    "# View prepared ferlizer data\n",
    "applied_N.sample(5) # choose 5 random records and display as pandas dataframe"
   ]
  },
  {
   "cell_type": "markdown",
   "metadata": {},
   "source": [
    "#### Prepare tidy-lysimeter-data (deep drainage and leachate data)"
   ]
  },
  {
   "cell_type": "code",
   "execution_count": 6,
   "metadata": {},
   "outputs": [
    {
     "data": {
      "text/html": [
       "<div>\n",
       "<style>\n",
       "    .dataframe thead tr:only-child th {\n",
       "        text-align: right;\n",
       "    }\n",
       "\n",
       "    .dataframe thead th {\n",
       "        text-align: left;\n",
       "    }\n",
       "\n",
       "    .dataframe tbody tr th {\n",
       "        vertical-align: top;\n",
       "    }\n",
       "</style>\n",
       "<table border=\"1\" class=\"dataframe\">\n",
       "  <thead>\n",
       "    <tr style=\"text-align: right;\">\n",
       "      <th></th>\n",
       "      <th>event</th>\n",
       "      <th>date</th>\n",
       "      <th>DAP</th>\n",
       "      <th>treatment</th>\n",
       "      <th>replicate</th>\n",
       "      <th>drainage_cm3</th>\n",
       "      <th>N_mg_per_L</th>\n",
       "    </tr>\n",
       "  </thead>\n",
       "  <tbody>\n",
       "    <tr>\n",
       "      <th>7</th>\n",
       "      <td>1</td>\n",
       "      <td>2017-04-19</td>\n",
       "      <td>7</td>\n",
       "      <td>CropManage</td>\n",
       "      <td>Rep D</td>\n",
       "      <td>0</td>\n",
       "      <td>0.000000</td>\n",
       "    </tr>\n",
       "    <tr>\n",
       "      <th>36</th>\n",
       "      <td>5</td>\n",
       "      <td>2017-05-31</td>\n",
       "      <td>49</td>\n",
       "      <td>CropManage</td>\n",
       "      <td>Rep A</td>\n",
       "      <td>0</td>\n",
       "      <td>0.000000</td>\n",
       "    </tr>\n",
       "    <tr>\n",
       "      <th>50</th>\n",
       "      <td>7</td>\n",
       "      <td>2017-06-09</td>\n",
       "      <td>58</td>\n",
       "      <td>ET 130</td>\n",
       "      <td>Rep C</td>\n",
       "      <td>210</td>\n",
       "      <td>174.428571</td>\n",
       "    </tr>\n",
       "    <tr>\n",
       "      <th>31</th>\n",
       "      <td>4</td>\n",
       "      <td>2017-05-24</td>\n",
       "      <td>42</td>\n",
       "      <td>CropManage</td>\n",
       "      <td>Rep D</td>\n",
       "      <td>0</td>\n",
       "      <td>0.000000</td>\n",
       "    </tr>\n",
       "    <tr>\n",
       "      <th>66</th>\n",
       "      <td>9</td>\n",
       "      <td>2017-06-16</td>\n",
       "      <td>65</td>\n",
       "      <td>ET 130</td>\n",
       "      <td>Rep C</td>\n",
       "      <td>210</td>\n",
       "      <td>164.714286</td>\n",
       "    </tr>\n",
       "  </tbody>\n",
       "</table>\n",
       "</div>"
      ],
      "text/plain": [
       "    event       date  DAP   treatment replicate  drainage_cm3  N_mg_per_L\n",
       "7       1 2017-04-19    7  CropManage     Rep D             0    0.000000\n",
       "36      5 2017-05-31   49  CropManage     Rep A             0    0.000000\n",
       "50      7 2017-06-09   58      ET 130     Rep C           210  174.428571\n",
       "31      4 2017-05-24   42  CropManage     Rep D             0    0.000000\n",
       "66      9 2017-06-16   65      ET 130     Rep C           210  164.714286"
      ]
     },
     "execution_count": 6,
     "metadata": {},
     "output_type": "execute_result"
    }
   ],
   "source": [
    "# Subset columns needed for analysis\n",
    "leachate_raw = lysimeter.loc[:, ['event', 'date', 'DAP', 'treatment', 'replicate', 'drainage_ml', 'N_mg_per_L'] ].copy()\n",
    "\n",
    "# rename drainage_ml to drainage_cm3 so that later conversions and calculations makes more sense\n",
    "leachate_raw.rename(columns={'drainage_ml': 'drainage_cm3'}, inplace=True)  # 1 ml = 1 cm^3\n",
    "\n",
    "# Set columns to appropriate data types\n",
    "leachate_raw.replicate = leachate_raw.replicate.astype('category')\n",
    "leachate_raw.treatment = leachate_raw.treatment.astype('category')\n",
    "\n",
    "# View prepared lysimeter data\n",
    "leachate_raw.sample(5) # choose 5 random records and display as pandas dataframe"
   ]
  },
  {
   "cell_type": "markdown",
   "metadata": {},
   "source": [
    "#### Prepare tidy-irrigation-data for analysis (applied water data)\n",
    "**Note:** The raw irrigation data collected by flow meters was converted from gallons to inches using the acreage of each treatment."
   ]
  },
  {
   "cell_type": "code",
   "execution_count": 7,
   "metadata": {},
   "outputs": [
    {
     "data": {
      "text/html": [
       "<div>\n",
       "<style>\n",
       "    .dataframe thead tr:only-child th {\n",
       "        text-align: right;\n",
       "    }\n",
       "\n",
       "    .dataframe thead th {\n",
       "        text-align: left;\n",
       "    }\n",
       "\n",
       "    .dataframe tbody tr th {\n",
       "        vertical-align: top;\n",
       "    }\n",
       "</style>\n",
       "<table border=\"1\" class=\"dataframe\">\n",
       "  <thead>\n",
       "    <tr style=\"text-align: right;\">\n",
       "      <th></th>\n",
       "      <th>date</th>\n",
       "      <th>DAP</th>\n",
       "      <th>treatment</th>\n",
       "      <th>irrigation_type</th>\n",
       "      <th>irrigation_in</th>\n",
       "      <th>irrigation_mm</th>\n",
       "    </tr>\n",
       "  </thead>\n",
       "  <tbody>\n",
       "    <tr>\n",
       "      <th>34</th>\n",
       "      <td>2017-06-19</td>\n",
       "      <td>68</td>\n",
       "      <td>ET 130</td>\n",
       "      <td>drip</td>\n",
       "      <td>0.00</td>\n",
       "      <td>0.000</td>\n",
       "    </tr>\n",
       "    <tr>\n",
       "      <th>25</th>\n",
       "      <td>2017-06-12</td>\n",
       "      <td>61</td>\n",
       "      <td>Grower</td>\n",
       "      <td>drip</td>\n",
       "      <td>0.65</td>\n",
       "      <td>16.510</td>\n",
       "    </tr>\n",
       "    <tr>\n",
       "      <th>33</th>\n",
       "      <td>2017-06-19</td>\n",
       "      <td>68</td>\n",
       "      <td>CropManage</td>\n",
       "      <td>drip</td>\n",
       "      <td>0.00</td>\n",
       "      <td>0.000</td>\n",
       "    </tr>\n",
       "    <tr>\n",
       "      <th>24</th>\n",
       "      <td>2017-06-09</td>\n",
       "      <td>58</td>\n",
       "      <td>ET 130</td>\n",
       "      <td>drip</td>\n",
       "      <td>0.63</td>\n",
       "      <td>16.002</td>\n",
       "    </tr>\n",
       "    <tr>\n",
       "      <th>11</th>\n",
       "      <td>2017-05-20</td>\n",
       "      <td>38</td>\n",
       "      <td>CropManage</td>\n",
       "      <td>drip</td>\n",
       "      <td>0.50</td>\n",
       "      <td>12.700</td>\n",
       "    </tr>\n",
       "  </tbody>\n",
       "</table>\n",
       "</div>"
      ],
      "text/plain": [
       "         date  DAP   treatment irrigation_type  irrigation_in  irrigation_mm\n",
       "34 2017-06-19   68      ET 130            drip           0.00          0.000\n",
       "25 2017-06-12   61      Grower            drip           0.65         16.510\n",
       "33 2017-06-19   68  CropManage            drip           0.00          0.000\n",
       "24 2017-06-09   58      ET 130            drip           0.63         16.002\n",
       "11 2017-05-20   38  CropManage            drip           0.50         12.700"
      ]
     },
     "execution_count": 7,
     "metadata": {},
     "output_type": "execute_result"
    }
   ],
   "source": [
    "# Subset columns needed for analysis\n",
    "applied_h2o = irrigation.loc[:, ['date', 'DAP', 'treatment', 'irrigation_type', 'irrigation_in', 'irrigation_mm']].copy()\n",
    "\n",
    "# Set columns to appropriate data types\n",
    "applied_h2o.treatment = applied_h2o.treatment.astype('category')\n",
    "applied_h2o.irrigation_type = applied_h2o.irrigation_type.astype('category')\n",
    "\n",
    "# View prepared irrigation data\n",
    "applied_h2o.sample(5) # choose 5 random records and display as pandas dataframe"
   ]
  },
  {
   "cell_type": "markdown",
   "metadata": {},
   "source": [
    "## Section 04: Exploratory Data Analysis (raw leachate/drainage data)"
   ]
  },
  {
   "cell_type": "code",
   "execution_count": 8,
   "metadata": {},
   "outputs": [],
   "source": [
    "# setup function for plotting raw lysimeter data\n",
    "def explore_raw_lysimeter_data(raw_data, treatment_one, treatment_two): \n",
    "    fig, ax=plt.subplots(2,1,figsize=(10,8)) # initiate figure and axis objects\n",
    "    sns.set(style=\"ticks\", rc={\"lines.linewidth\": 1}) # controls the width of the plotted lines\n",
    "    # plot drainage\n",
    "    ax = sns.pointplot(x=\"DAP\", y=\"drainage_cm3\", hue=\"treatment\", hue_order=[treatment_one, treatment_two],\n",
    "                       data=raw_data, palette=['black','grey'],errwidth=1, markers=[\"o\", \"^\"],\n",
    "                       capsize=0.25, linestyles=[\"-\", \"--\"], linewidth=5, ax=ax[0]) \n",
    "    ax.set_xlabel(xlabel='', fontsize=20,labelpad=15);\n",
    "    ax.set_ylabel('Pumped drainage (ml)', fontsize=14, labelpad=14); # ax.set_ylim(-20,300)\n",
    "    ax.tick_params(labelsize=15); \n",
    "    # plot nitrate concentration\n",
    "    ax1 = sns.pointplot(x=\"DAP\", y=\"N_mg_per_L\", hue=\"treatment\", hue_order=[treatment_one, treatment_two],\n",
    "                        data=raw_data, palette=['black','grey'],\n",
    "                       errwidth=1, markers=[\"o\", \"^\"], capsize=0.25, linestyles=[\"-\", \"--\"], linewidth=5)\n",
    "    ax1.set_xlabel(xlabel='Days After Transplant (DAT)', fontsize=16,labelpad=15);\n",
    "    ax1.set_ylabel('Nitrate concentration (mg/L)', fontsize=14, labelpad=14); # ax1.set_ylim(-20,300) \n",
    "    ax1.tick_params(labelsize=15); \n",
    "    sns.despine() # remove upper and righhand spines\n",
    "    return fig, ax"
   ]
  },
  {
   "cell_type": "markdown",
   "metadata": {},
   "source": [
    "#### Plot the unscaled raw lysimeter data that was pumped/collected on site and the raw nitrate concentrations from the laboratory analysis.\n",
    "\n",
    "**Note:** This is the mean of the replicates associated with each treatment"
   ]
  },
  {
   "cell_type": "code",
   "execution_count": 9,
   "metadata": {},
   "outputs": [
    {
     "data": {
      "text/plain": [
       "(<matplotlib.figure.Figure at 0x26d88fdb860>,\n",
       " <matplotlib.axes._subplots.AxesSubplot at 0x26d88fdb9e8>)"
      ]
     },
     "execution_count": 9,
     "metadata": {},
     "output_type": "execute_result"
    },
    {
     "data": {
      "image/png": "[encoded data removed]",
      "text/plain": [
       "<matplotlib.figure.Figure at 0x26d88fdb860>"
      ]
     },
     "metadata": {},
     "output_type": "display_data"
    }
   ],
   "source": [
    "# Use function and view plot of raw unscaled data\n",
    "explore_raw_lysimeter_data(leachate_raw, treatment_one, treatment_two)"
   ]
  },
  {
   "cell_type": "markdown",
   "metadata": {},
   "source": [
    "#### Scatter plot of concentrations followed by drainage for each treatment to see variation with treatment replicates"
   ]
  },
  {
   "cell_type": "code",
   "execution_count": 10,
   "metadata": {},
   "outputs": [
    {
     "data": {
      "text/plain": [
       "<seaborn.axisgrid.FacetGrid at 0x26d8991e9b0>"
      ]
     },
     "execution_count": 10,
     "metadata": {},
     "output_type": "execute_result"
    },
    {
     "data": {
      "image/png": "[encoded data removed]",
      "text/plain": [
       "<matplotlib.figure.Figure at 0x26d8991eb70>"
      ]
     },
     "metadata": {},
     "output_type": "display_data"
    }
   ],
   "source": [
    "# Explore nitrate concentration (mg/L) and the variability between treatments and replicates\n",
    "sns.factorplot(x=\"DAP\", y=\"N_mg_per_L\", hue=\"replicate\",\n",
    "    col=\"treatment\", data=lysimeter, kind=\"swarm\")"
   ]
  },
  {
   "cell_type": "code",
   "execution_count": 11,
   "metadata": {},
   "outputs": [
    {
     "data": {
      "text/plain": [
       "<seaborn.axisgrid.FacetGrid at 0x26d897f8240>"
      ]
     },
     "execution_count": 11,
     "metadata": {},
     "output_type": "execute_result"
    },
    {
     "data": {
      "image/png": "[encoded data removed]",
      "text/plain": [
       "<matplotlib.figure.Figure at 0x26d89718b70>"
      ]
     },
     "metadata": {},
     "output_type": "display_data"
    }
   ],
   "source": [
    "# Explore drainage volumes (ml) and the variability between treatments and replicates\n",
    "sns.factorplot(x=\"DAP\", y=\"drainage_ml\", hue=\"replicate\",\n",
    "    col=\"treatment\", data=lysimeter, kind=\"swarm\")"
   ]
  },
  {
   "cell_type": "markdown",
   "metadata": {},
   "source": [
    "## Section 05: Perform calculations and scaling on lysimeter data to calculate final metrics.\n",
    "\n",
    "**Note:** This is the primary section of the leachate analysis. Here we are applying specific calculations and conversions that take the raw drainage data and the raw nitrate concentration data and transform them into the final metrics. The final metrics will be in the appropriate units that allow for easy comparisons with other summary statistics (e.g., applied water/acre and applied fertilizer/acre)"
   ]
  },
  {
   "cell_type": "markdown",
   "metadata": {},
   "source": [
    "**The general workflow for the leachate analysis is as follows:**\n",
    "\n",
    "1. Setup conversion factors.\n",
    "2. Determine and create necessary area of influence (AOI) and scaling factor.\n",
    "3. Use pumped volumes and nitrate concentrations to calculate each component necessary for the final metrics.\n",
    "    - Calculate drainage in inches (from volume). \n",
    "    - Convert milliliters (same as cm^3 b/c 1 ml = 1 cm^3) to liters.\n",
    "    - Calculate milligrams of N (N_mg) by multiplying drainage (L) times concentration (mg/L).\n",
    "    - Calculate pounds of N (N_lbs) by multiplying concentration (N_mg) times the milligrams to pounds conversion factor.\n",
    "    - Calculate pounds of N per square centimeters.\n",
    "    - Calculate pounds of N per acre.\n",
    "\n",
    "**Note:** Each of these calculations and/or conversions is added as a new column to the leachate data frame (calculations happen to each instance (record) in the dataframe). The output dataframe then has everything to easily summarize drainage or leachate for the study (e.g., by treatment and by replicate)"
   ]
  },
  {
   "cell_type": "markdown",
   "metadata": {},
   "source": [
    "#### 1) Setup conversion factors"
   ]
  },
  {
   "cell_type": "code",
   "execution_count": 12,
   "metadata": {
    "collapsed": true
   },
   "outputs": [],
   "source": [
    "# Conversions needed for analysis\n",
    "# conversion factor for milligrams to pounds (lbs in a mg)\n",
    "mg_to_lbs = 0.0000022046   #   lb = mg * 0.0000022046\n",
    "\n",
    "# conversion factor for total square cinemiters in an Acre\n",
    "cm2_in_acre = 40468564.224\n",
    "\n",
    "# Conversion factor for going from inches to centimeters\n",
    "inch_to_cm = 2.54 # conversion factor: centimeters per inch\n",
    "\n",
    "# Conversion factor for going from centimeters to inches\n",
    "cm_to_inches = 0.393701 # conversion factor: inches per centimeter"
   ]
  },
  {
   "cell_type": "markdown",
   "metadata": {},
   "source": [
    "#### 2) Determine and create necessary area of influence (AOI) and scaling factor (assumes no leaching in furrows).\n",
    "\n",
    "**Note:** These are in centimeters because they will be used to do calculations on drainage in the leachate dataframe"
   ]
  },
  {
   "cell_type": "code",
   "execution_count": 13,
   "metadata": {},
   "outputs": [
    {
     "name": "stdout",
     "output_type": "stream",
     "text": [
      "The Area of Influence being used is:  506.7  cm\n",
      "The Scaling factor used that assumes the furrows had no drainage is:  0.7500000000000001\n"
     ]
    }
   ],
   "source": [
    "# Function to create scaling factor that assumes no leaching in furrows\n",
    "def create_scaling_factor(width_of_bed=1, width_of_bed_plus_furrows=1):\n",
    "    '''The output of this function will be in centimeters'''\n",
    "    '''This is important for later conversions'''\n",
    "    # convert width of just the bed from inches to centimeters\n",
    "    width_of_bed_cm = width_of_bed * inch_to_cm # centimeters\n",
    "    # convert width of bed (with furrows) from inches to centimeters\n",
    "    width_of_bed_plus_furrows_cm = width_of_bed_plus_furrows * inch_to_cm # centimeters\n",
    "    # calculate scaling factor that assumes there was no drainage in furrows\n",
    "    scaling_factor_cm = width_of_bed_cm / width_of_bed_plus_furrows_cm    \n",
    "    return scaling_factor_cm\n",
    "\n",
    "furrow_scalar = create_scaling_factor(width_of_bed, width_of_bed_plus_furrows)\n",
    "\n",
    "# Check to be sure aoi_cm2 and furrow_scalar are what you expect\n",
    "print(\"The Area of Influence being used is: \", aoi_cm2, \" cm\")\n",
    "print(\"The Scaling factor used that assumes the furrows had no drainage is: \", furrow_scalar)"
   ]
  },
  {
   "cell_type": "markdown",
   "metadata": {},
   "source": [
    "**Important:** Double check scalar and area of influence printout above to be sure it's what you expected."
   ]
  },
  {
   "cell_type": "markdown",
   "metadata": {},
   "source": [
    "#### 3) Use pumped volumes and nitrate concentrations to calculate each component necessary for the final metrics."
   ]
  },
  {
   "cell_type": "code",
   "execution_count": 14,
   "metadata": {},
   "outputs": [
    {
     "data": {
      "text/html": [
       "<div>\n",
       "<style>\n",
       "    .dataframe thead tr:only-child th {\n",
       "        text-align: right;\n",
       "    }\n",
       "\n",
       "    .dataframe thead th {\n",
       "        text-align: left;\n",
       "    }\n",
       "\n",
       "    .dataframe tbody tr th {\n",
       "        vertical-align: top;\n",
       "    }\n",
       "</style>\n",
       "<table border=\"1\" class=\"dataframe\">\n",
       "  <thead>\n",
       "    <tr style=\"text-align: right;\">\n",
       "      <th></th>\n",
       "      <th>event</th>\n",
       "      <th>date</th>\n",
       "      <th>DAP</th>\n",
       "      <th>treatment</th>\n",
       "      <th>replicate</th>\n",
       "      <th>drainage_cm3</th>\n",
       "      <th>N_mg_per_L</th>\n",
       "      <th>drainage_in</th>\n",
       "      <th>drainage_L</th>\n",
       "      <th>N_mg</th>\n",
       "      <th>N_lbs</th>\n",
       "      <th>N_lbs_per_cm2</th>\n",
       "      <th>N_lbs_per_acre</th>\n",
       "    </tr>\n",
       "  </thead>\n",
       "  <tbody>\n",
       "    <tr>\n",
       "      <th>8</th>\n",
       "      <td>2</td>\n",
       "      <td>2017-05-15</td>\n",
       "      <td>33</td>\n",
       "      <td>ET 130</td>\n",
       "      <td>Rep A</td>\n",
       "      <td>0</td>\n",
       "      <td>0.00</td>\n",
       "      <td>0.00</td>\n",
       "      <td>0.00</td>\n",
       "      <td>0.00</td>\n",
       "      <td>0.0</td>\n",
       "      <td>0.0</td>\n",
       "      <td>0.00</td>\n",
       "    </tr>\n",
       "    <tr>\n",
       "      <th>16</th>\n",
       "      <td>3</td>\n",
       "      <td>2017-05-18</td>\n",
       "      <td>36</td>\n",
       "      <td>ET 130</td>\n",
       "      <td>Rep A</td>\n",
       "      <td>0</td>\n",
       "      <td>0.00</td>\n",
       "      <td>0.00</td>\n",
       "      <td>0.00</td>\n",
       "      <td>0.00</td>\n",
       "      <td>0.0</td>\n",
       "      <td>0.0</td>\n",
       "      <td>0.00</td>\n",
       "    </tr>\n",
       "    <tr>\n",
       "      <th>42</th>\n",
       "      <td>6</td>\n",
       "      <td>2017-06-05</td>\n",
       "      <td>54</td>\n",
       "      <td>ET 130</td>\n",
       "      <td>Rep C</td>\n",
       "      <td>185</td>\n",
       "      <td>142.68</td>\n",
       "      <td>0.11</td>\n",
       "      <td>0.18</td>\n",
       "      <td>26.40</td>\n",
       "      <td>0.0</td>\n",
       "      <td>0.0</td>\n",
       "      <td>3.49</td>\n",
       "    </tr>\n",
       "    <tr>\n",
       "      <th>13</th>\n",
       "      <td>2</td>\n",
       "      <td>2017-05-15</td>\n",
       "      <td>33</td>\n",
       "      <td>CropManage</td>\n",
       "      <td>Rep B</td>\n",
       "      <td>1450</td>\n",
       "      <td>156.90</td>\n",
       "      <td>0.84</td>\n",
       "      <td>1.45</td>\n",
       "      <td>227.50</td>\n",
       "      <td>0.0</td>\n",
       "      <td>0.0</td>\n",
       "      <td>30.04</td>\n",
       "    </tr>\n",
       "    <tr>\n",
       "      <th>50</th>\n",
       "      <td>7</td>\n",
       "      <td>2017-06-09</td>\n",
       "      <td>58</td>\n",
       "      <td>ET 130</td>\n",
       "      <td>Rep C</td>\n",
       "      <td>210</td>\n",
       "      <td>174.43</td>\n",
       "      <td>0.12</td>\n",
       "      <td>0.21</td>\n",
       "      <td>36.63</td>\n",
       "      <td>0.0</td>\n",
       "      <td>0.0</td>\n",
       "      <td>4.84</td>\n",
       "    </tr>\n",
       "  </tbody>\n",
       "</table>\n",
       "</div>"
      ],
      "text/plain": [
       "    event       date  DAP   treatment replicate  drainage_cm3  N_mg_per_L  \\\n",
       "8       2 2017-05-15   33      ET 130     Rep A             0        0.00   \n",
       "16      3 2017-05-18   36      ET 130     Rep A             0        0.00   \n",
       "42      6 2017-06-05   54      ET 130     Rep C           185      142.68   \n",
       "13      2 2017-05-15   33  CropManage     Rep B          1450      156.90   \n",
       "50      7 2017-06-09   58      ET 130     Rep C           210      174.43   \n",
       "\n",
       "    drainage_in  drainage_L    N_mg  N_lbs  N_lbs_per_cm2  N_lbs_per_acre  \n",
       "8          0.00        0.00    0.00    0.0            0.0            0.00  \n",
       "16         0.00        0.00    0.00    0.0            0.0            0.00  \n",
       "42         0.11        0.18   26.40    0.0            0.0            3.49  \n",
       "13         0.84        1.45  227.50    0.0            0.0           30.04  \n",
       "50         0.12        0.21   36.63    0.0            0.0            4.84  "
      ]
     },
     "execution_count": 14,
     "metadata": {},
     "output_type": "execute_result"
    }
   ],
   "source": [
    "# Calculate drainage in inches (in) for each record and add resulting column to dataframe\n",
    "leachate_raw.loc[:,'drainage_in'] = (leachate_raw.loc[:, 'drainage_cm3'] / aoi_cm2) * furrow_scalar * cm_to_inches\n",
    "\n",
    "# Calculate drainage in liters (L) for each record and add resulting column to dataframe\n",
    "leachate_raw.loc[:,'drainage_L'] = leachate_raw.loc[:,'drainage_cm3'] / 1000\n",
    "\n",
    "# Calculate nitrate in miligrams (mg) for each record and add resulting column to dataframe\n",
    "leachate_raw.loc[:,'N_mg'] = leachate_raw.loc[:,'N_mg_per_L'] * leachate_raw.loc[:,'drainage_L'] \n",
    "\n",
    "# Calculate nitrate in pounds (lb) for each record and add resulting column to dataframe\n",
    "leachate_raw.loc[:,'N_lbs'] = leachate_raw.loc[:,'N_mg'] * mg_to_lbs\n",
    "\n",
    "# Calculate lbs of N per sampling area (cm^2) for each record and add resulting column to dataframe\n",
    "leachate_raw.loc[:,'N_lbs_per_cm2'] = (leachate_raw.loc[:,'N_lbs'] / aoi_cm2 * furrow_scalar)\n",
    "\n",
    "# Convert lbs of N per cm^2 to lbs of N per Acre for each record and add resulting column to dataframe\n",
    "leachate_raw.loc[:,'N_lbs_per_acre'] = leachate_raw.loc[:,'N_lbs_per_cm2'] * cm2_in_acre\n",
    "    \n",
    "leachate_raw.sample(5).round(2)"
   ]
  },
  {
   "cell_type": "markdown",
   "metadata": {},
   "source": [
    "---\n",
    "\n",
    "\n",
    "---"
   ]
  },
  {
   "cell_type": "markdown",
   "metadata": {},
   "source": [
    "## Stopping Point (below still needs to be cleaned up and sections 6-8 need to be added)"
   ]
  },
  {
   "cell_type": "markdown",
   "metadata": {},
   "source": [
    "---"
   ]
  },
  {
   "cell_type": "code",
   "execution_count": null,
   "metadata": {
    "collapsed": true
   },
   "outputs": [],
   "source": []
  },
  {
   "cell_type": "markdown",
   "metadata": {},
   "source": [
    "# Exploration of Scaled Lysimeter Data (treatment averages)\n",
    "Taking a quick look at the unscaled volumes pumped on site and the nitrate concentration from the laboratory analysis."
   ]
  },
  {
   "cell_type": "code",
   "execution_count": 16,
   "metadata": {},
   "outputs": [],
   "source": [
    "def explore_scaled_lysimeter_data(tidy_data, treatment_one, treatment_two): \n",
    "    fig, ax=plt.subplots(2,1,figsize=(10,8)) # initiate figure and axis objects\n",
    "    sns.set(style=\"ticks\", rc={\"lines.linewidth\": 1})\n",
    "    # plot drainage\n",
    "    ax = sns.pointplot(x=\"DAP\", y=\"drainage_in\", hue=\"treatment\", hue_order=[treatment_one, treatment_two],\n",
    "                       data=tidy_data, palette=['black','grey'],\n",
    "                       errwidth=1, markers=[\"o\", \"^\"], capsize=0.25, linestyles=[\"-\", \"--\"], linewidth=5, ax=ax[0]) \n",
    "    ax.set_xlabel(xlabel='', fontsize=20,labelpad=15);\n",
    "    ax.set_ylabel('Deep Drainage (inches)', fontsize=14, labelpad=14); # ax.set_ylim(-20,300)\n",
    "    ax.tick_params(labelsize=15); \n",
    "    # plot nitrate concentration\n",
    "    ax1 = sns.pointplot(x=\"DAP\", y=\"N_lbs_per_acre\", hue=\"treatment\", hue_order=[treatment_one, treatment_two],\n",
    "                        data=tidy_data, palette=['black','grey'],\n",
    "                       errwidth=1, markers=[\"o\", \"^\"], capsize=0.25, linestyles=[\"-\", \"--\"], linewidth=5)\n",
    "    ax1.set_xlabel(xlabel='Days After Transplant (DAT)', fontsize=16,labelpad=15);\n",
    "    ax1.set_ylabel('Leachate (lbs N/acre)', fontsize=14, labelpad=14); # ax1.set_ylim(-20,300) \n",
    "    ax1.tick_params(labelsize=15); \n",
    "    sns.despine() # remove upper and righhand spines\n",
    "    return fig, ax\n",
    "\n",
    "# use function to explore scaled lysimeter data \n",
    "#explore_scaled_lysimeter_data(leachate, treatment_one, treatment_two)\n",
    "\n",
    "# export table \n",
    "# plt.savefig(path_figures + r'\\scaled-lysimeter-data') # save figure"
   ]
  },
  {
   "cell_type": "code",
   "execution_count": null,
   "metadata": {},
   "outputs": [],
   "source": [
    "def explore_scaled_lysimeter_data(tidy_data): \n",
    "    fig, ax=plt.subplots(2,1,figsize=(10,8)) # initiate figure and axis objects\n",
    "    sns.set(style=\"ticks\", rc={\"lines.linewidth\": 1})\n",
    "    # plot drainage\n",
    "    ax = sns.pointplot(x=\"DAP\", y=\"drainage_in\", hue=\"treatment\", data=tidy_data, palette=['black','grey'],\n",
    "                       errwidth=1, markers=[\"o\", \"^\"], capsize=0.25, linestyles=[\"-\", \"--\"], linewidth=5, ax=ax[0]) \n",
    "    ax.set_xlabel(xlabel='', fontsize=20,labelpad=15); \n",
    "    ax.set_ylabel('Deep Drainage (inches)', fontsize=14, labelpad=14); # ax.set_ylim(-20,300)\n",
    "    ax.tick_params(labelsize=15); \n",
    "    # plot nitrate concentration\n",
    "    ax1 = sns.pointplot(x=\"DAP\", y=\"N_lbs_per_acre\", hue=\"treatment\", data=tidy_data, palette=['black','grey'],\n",
    "                       errwidth=1, markers=[\"o\", \"^\"], capsize=0.25, linestyles=[\"-\", \"--\"], linewidth=5)\n",
    "    ax1.set_xlabel(xlabel='Days After Planting (DAP)', fontsize=16,labelpad=15);\n",
    "    ax1.set_ylabel('Leachate (lbs N/acre)', fontsize=14, labelpad=14); # ax1.set_ylim(-20,300) \n",
    "    ax1.tick_params(labelsize=15); \n",
    "    sns.despine() # remove upper and righhand spines\n",
    "    return fig, ax\n",
    "\n",
    "# use function to explore scaled lysimeter data (unscaled)\n",
    "explore_scaled_lysimeter_data(leachate)"
   ]
  },
  {
   "cell_type": "markdown",
   "metadata": {},
   "source": [
    "---"
   ]
  },
  {
   "cell_type": "markdown",
   "metadata": {},
   "source": [
    "# Aggregate drainage and leachate data for comparisons"
   ]
  },
  {
   "cell_type": "markdown",
   "metadata": {},
   "source": [
    "### Group leachate data by treatment and replicate to get a cummulative total for each unique lysimter (replicate)\n",
    "**Note:** This step is summing all values that were collected for each individual replicate (each lysimeter)\n"
   ]
  },
  {
   "cell_type": "code",
   "execution_count": null,
   "metadata": {
    "collapsed": true
   },
   "outputs": [],
   "source": [
    "# Set correct data-types for leachate dataframe\n",
    "leachate.treatment = leachate.treatment.astype('category')\n",
    "leachate.replicate = leachate.replicate.astype('category')\n",
    "#leachate.event = leachate.event.astype('category')\n",
    "#leachate.DAP = leachate.DAP.astype('category')"
   ]
  },
  {
   "cell_type": "code",
   "execution_count": null,
   "metadata": {},
   "outputs": [],
   "source": [
    "cummulative_leachate = leachate.groupby(['treatment', 'replicate']).sum().copy()\n",
    "cummulative_leachate = cummulative_leachate.reset_index()\n",
    "cummulative_leachate"
   ]
  },
  {
   "cell_type": "markdown",
   "metadata": {},
   "source": [
    "### Use cummulative totals for each replicate (cummulative_leachate) to take mean cummulative per treatment\n",
    "**Note:** This step is uses the summed totals for each lysimter and groups them together to calculate treatment averages."
   ]
  },
  {
   "cell_type": "code",
   "execution_count": null,
   "metadata": {},
   "outputs": [],
   "source": [
    "# Groupby treatment and take the mean\n",
    "average_leachate = cummulative_leachate.groupby(['treatment']).mean()\n",
    "\n",
    "# View dataframe with summaries for each treatment\n",
    "average_leachate"
   ]
  },
  {
   "cell_type": "code",
   "execution_count": null,
   "metadata": {
    "collapsed": true
   },
   "outputs": [],
   "source": []
  },
  {
   "cell_type": "code",
   "execution_count": null,
   "metadata": {
    "collapsed": true
   },
   "outputs": [],
   "source": []
  },
  {
   "cell_type": "code",
   "execution_count": null,
   "metadata": {
    "collapsed": true
   },
   "outputs": [],
   "source": []
  },
  {
   "cell_type": "code",
   "execution_count": null,
   "metadata": {
    "collapsed": true
   },
   "outputs": [],
   "source": []
  },
  {
   "cell_type": "code",
   "execution_count": null,
   "metadata": {
    "collapsed": true
   },
   "outputs": [],
   "source": []
  },
  {
   "cell_type": "code",
   "execution_count": null,
   "metadata": {
    "collapsed": true
   },
   "outputs": [],
   "source": []
  },
  {
   "cell_type": "code",
   "execution_count": null,
   "metadata": {
    "collapsed": true
   },
   "outputs": [],
   "source": []
  },
  {
   "cell_type": "code",
   "execution_count": null,
   "metadata": {
    "collapsed": true
   },
   "outputs": [],
   "source": []
  },
  {
   "cell_type": "code",
   "execution_count": null,
   "metadata": {
    "collapsed": true
   },
   "outputs": [],
   "source": []
  },
  {
   "cell_type": "code",
   "execution_count": null,
   "metadata": {
    "collapsed": true
   },
   "outputs": [],
   "source": []
  },
  {
   "cell_type": "code",
   "execution_count": null,
   "metadata": {
    "collapsed": true
   },
   "outputs": [],
   "source": []
  },
  {
   "cell_type": "code",
   "execution_count": null,
   "metadata": {
    "collapsed": true
   },
   "outputs": [],
   "source": []
  }
 ],
 "metadata": {
  "kernelspec": {
   "display_name": "Python 3",
   "language": "python",
   "name": "python3"
  },
  "language_info": {
   "codemirror_mode": {
    "name": "ipython",
    "version": 3
   },
   "file_extension": ".py",
   "mimetype": "text/x-python",
   "name": "python",
   "nbconvert_exporter": "python",
   "pygments_lexer": "ipython3",
   "version": "3.6.1"
  }
 },
 "nbformat": 4,
 "nbformat_minor": 2
}
